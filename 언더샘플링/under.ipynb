{
 "cells": [
  {
   "cell_type": "code",
   "execution_count": 1,
   "id": "40339244",
   "metadata": {},
   "outputs": [],
   "source": [
    "import pandas as pd\n",
    "from sklearn.utils import resample\n",
    "from collections import Counter"
   ]
  },
  {
   "cell_type": "code",
   "execution_count": 2,
   "id": "d41fb446",
   "metadata": {},
   "outputs": [],
   "source": [
    "# 1. CSV 파일 불러오기\n",
    "df = pd.read_csv('cleaned_url_dataset.csv')"
   ]
  },
  {
   "cell_type": "code",
   "execution_count": 3,
   "id": "95df5cc1",
   "metadata": {},
   "outputs": [
    {
     "name": "stdout",
     "output_type": "stream",
     "text": [
      "🧾 전체 데이터 클래스 분포:\n",
      "  클래스 0.0: 7015140개\n",
      "  클래스 2.0: 160782개\n",
      "  클래스 1.0: 129768개\n"
     ]
    }
   ],
   "source": [
    "print(\"🧾 전체 데이터 클래스 분포:\")\n",
    "for label, count in df['label'].value_counts().items():\n",
    "    print(f\"  클래스 {label}: {count}개\")"
   ]
  },
  {
   "cell_type": "code",
   "execution_count": 4,
   "id": "73e7c3ae",
   "metadata": {},
   "outputs": [],
   "source": [
    "# 2. 클래스별 데이터 분리\n",
    "df_normal = df[df['label'] == 0]\n",
    "df_malicious = df[df['label'].isin([1, 2])]"
   ]
  },
  {
   "cell_type": "code",
   "execution_count": 5,
   "id": "206f350f",
   "metadata": {},
   "outputs": [],
   "source": [
    "# 3. 악성 데이터 개수 확인\n",
    "n_malicious = len(df_malicious)"
   ]
  },
  {
   "cell_type": "code",
   "execution_count": 6,
   "id": "ea577960",
   "metadata": {},
   "outputs": [],
   "source": [
    "# 4. 정상 데이터를 악성 데이터 수만큼 언더샘플링\n",
    "df_normal_undersampled = resample(df_normal,\n",
    "                                  replace=False,       # 복원 없이\n",
    "                                  n_samples=n_malicious, # 악성 수만큼만 뽑기\n",
    "                                  random_state=42)     # 재현 가능성"
   ]
  },
  {
   "cell_type": "code",
   "execution_count": 7,
   "id": "90c0650c",
   "metadata": {},
   "outputs": [
    {
     "name": "stdout",
     "output_type": "stream",
     "text": [
      "Counter({0.0: 290550, 2.0: 160782, 1.0: 129768})\n"
     ]
    }
   ],
   "source": [
    "# 🔍 언더샘플링 결과 확인\n",
    "y_resampled = pd.concat([df_normal_undersampled, df_malicious])['label']\n",
    "print(Counter(y_resampled))  # ✅ 여기서 클래스별 개수 확인"
   ]
  },
  {
   "cell_type": "code",
   "execution_count": 8,
   "id": "2d7875f6",
   "metadata": {},
   "outputs": [],
   "source": [
    "# 5. 언더샘플된 정상 데이터와 악성 데이터 합치기 \n",
    "df_balanced = pd.concat([df_normal_undersampled, df_malicious])"
   ]
  },
  {
   "cell_type": "code",
   "execution_count": 9,
   "id": "c9720479",
   "metadata": {},
   "outputs": [],
   "source": [
    "# 6. 셔플 (행 순서를 섞기 위해해)\n",
    "df_balanced = df_balanced.sample(frac=1, random_state=42).reset_index(drop=True)"
   ]
  },
  {
   "cell_type": "code",
   "execution_count": 10,
   "id": "53043148",
   "metadata": {},
   "outputs": [
    {
     "name": "stdout",
     "output_type": "stream",
     "text": [
      "label\n",
      "0.0    290550\n",
      "2.0    160782\n",
      "1.0    129768\n",
      "Name: count, dtype: int64\n"
     ]
    }
   ],
   "source": [
    "# 7. 최종 확인\n",
    "print(df_balanced['label'].value_counts())"
   ]
  },
  {
   "cell_type": "code",
   "execution_count": 11,
   "id": "f9b0885d",
   "metadata": {},
   "outputs": [],
   "source": [
    "# 8. ✅ 파일로 저장\n",
    "df_balanced.to_csv('balanced_data.csv', index=False)"
   ]
  },
  {
   "cell_type": "code",
   "execution_count": null,
   "id": "8c1d83b5",
   "metadata": {},
   "outputs": [],
   "source": [
    "# 제대로 들어갔나 확인 "
   ]
  },
  {
   "cell_type": "code",
   "execution_count": 12,
   "id": "c1323aa0",
   "metadata": {},
   "outputs": [],
   "source": [
    "import pandas as pd\n",
    "\n",
    "df = pd.read_csv('balanced_data.csv')  # 경로는 상황에 맞게 수정"
   ]
  },
  {
   "cell_type": "code",
   "execution_count": 13,
   "id": "69e58bd3",
   "metadata": {},
   "outputs": [
    {
     "name": "stdout",
     "output_type": "stream",
     "text": [
      "📊 balanced_data.csv 내 클래스별 분포:\n",
      "label\n",
      "0.0    290550\n",
      "2.0    160782\n",
      "1.0    129768\n",
      "Name: count, dtype: int64\n"
     ]
    }
   ],
   "source": [
    "print(\"📊 balanced_data.csv 내 클래스별 분포:\")\n",
    "print(df['label'].value_counts())\n"
   ]
  }
 ],
 "metadata": {
  "kernelspec": {
   "display_name": "Python 3",
   "language": "python",
   "name": "python3"
  },
  "language_info": {
   "codemirror_mode": {
    "name": "ipython",
    "version": 3
   },
   "file_extension": ".py",
   "mimetype": "text/x-python",
   "name": "python",
   "nbconvert_exporter": "python",
   "pygments_lexer": "ipython3",
   "version": "3.12.1"
  }
 },
 "nbformat": 4,
 "nbformat_minor": 5
}
