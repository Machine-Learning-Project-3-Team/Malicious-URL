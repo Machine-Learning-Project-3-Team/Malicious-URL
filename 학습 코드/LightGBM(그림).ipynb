{
  "nbformat": 4,
  "nbformat_minor": 0,
  "metadata": {
    "colab": {
      "provenance": []
    },
    "kernelspec": {
      "name": "python3",
      "display_name": "Python 3"
    },
    "language_info": {
      "name": "python"
    }
  },
  "cells": [
    {
      "cell_type": "code",
      "source": [
        "# 83 | A모델, B모델"
      ],
      "metadata": {
        "id": "TQb3bE-J_nP6"
      },
      "execution_count": null,
      "outputs": []
    },
    {
      "cell_type": "code",
      "execution_count": 6,
      "metadata": {
        "id": "28GgYfbi4DIp"
      },
      "outputs": [],
      "source": [
        "import pandas as pd\n",
        "import numpy as np\n",
        "import re\n",
        "import matplotlib.pyplot as plt\n",
        "import seaborn as sns\n",
        "from sklearn.model_selection import train_test_split\n",
        "from sklearn.preprocessing import LabelEncoder\n",
        "from sklearn.metrics import classification_report, confusion_matrix, accuracy_score, f1_score\n",
        "from lightgbm import LGBMClassifier"
      ]
    },
    {
      "cell_type": "code",
      "source": [
        "# ✅ 1. 데이터 불러오기\n",
        "df = pd.read_csv('real_final.csv').dropna(subset=['url', 'label'])"
      ],
      "metadata": {
        "colab": {
          "base_uri": "https://localhost:8080/"
        },
        "id": "nbl_nIv26Q8K",
        "outputId": "ba1c82e1-8486-4b3c-ded3-167e75fe62d9"
      },
      "execution_count": 7,
      "outputs": [
        {
          "output_type": "stream",
          "name": "stderr",
          "text": [
            "<ipython-input-7-1486842807>:2: DtypeWarning: Columns (47) have mixed types. Specify dtype option on import or set low_memory=False.\n",
            "  df = pd.read_csv('real_final.csv').dropna(subset=['url', 'label'])\n"
          ]
        }
      ]
    },
    {
      "cell_type": "code",
      "source": [
        "# ✅ 2. 공통 피처 생성\n",
        "df['url_length'] = df['url'].apply(lambda x: len(str(x)))\n",
        "df['count_dots'] = df['url'].apply(lambda x: str(x).count('.'))\n",
        "df['count_digits'] = df['url'].apply(lambda x: sum(c.isdigit() for c in str(x)))\n",
        "df['count_special'] = df['url'].apply(lambda x: len(re.findall(r'[-_%=]', str(x))))\n",
        "df['url_entropy'] = df['url'].apply(\n",
        "    lambda x: -sum(p * np.log2(p) for p in [count / len(x)\n",
        "        for count in np.bincount([ord(c) for c in str(x)]) if count > 0])\n",
        "    if isinstance(x, str) and len(x) > 0 else 0\n",
        ")\n",
        "df = df.drop('url', axis=1)"
      ],
      "metadata": {
        "id": "1DtaFEyO6R9y"
      },
      "execution_count": 8,
      "outputs": []
    },
    {
      "cell_type": "code",
      "source": [
        "# ✅ 3. HTML 피처 처리\n",
        "html_features = [col for col in df.columns if col.startswith(\"html_\") and col != 'html_is_shortened']\n",
        "df[html_features] = df[html_features].fillna(0)\n",
        "df['url_available'] = df['url_available'].fillna(0).astype(int)\n",
        "for col in html_features:\n",
        "    df[col] = df[col] * df['url_available']"
      ],
      "metadata": {
        "id": "etqyOEaH6S7y"
      },
      "execution_count": 9,
      "outputs": []
    },
    {
      "cell_type": "code",
      "source": [
        "# ✅ 4. 파일 확장자 인코딩\n",
        "if 'file_ext' in df.columns:\n",
        "    le = LabelEncoder()\n",
        "    df['file_ext'] = le.fit_transform(df['file_ext'])"
      ],
      "metadata": {
        "id": "3FjM7OZe6TtW"
      },
      "execution_count": 10,
      "outputs": []
    },
    {
      "cell_type": "code",
      "source": [
        "# ✅ 5. 피처 목록 구성\n",
        "base_features = [col for col in df.columns if col not in ['label'] + html_features + ['url_available']]\n"
      ],
      "metadata": {
        "id": "zh_OXHpr6Uiy"
      },
      "execution_count": 11,
      "outputs": []
    },
    {
      "cell_type": "code",
      "source": [
        "# ✅ 6. 모델 평가 함수 정의\n",
        "def evaluate_model(X, y, model_name):\n",
        "    X_train, X_test, y_train, y_test = train_test_split(X, y, test_size=0.2, random_state=42)\n",
        "    model = LGBMClassifier(\n",
        "        num_leaves=64,\n",
        "        max_depth=10,\n",
        "        learning_rate=0.05,\n",
        "        n_estimators=500,\n",
        "        min_child_samples=30,\n",
        "        subsample=0.8,\n",
        "        colsample_bytree=0.8,\n",
        "        reg_alpha=0.1,\n",
        "        reg_lambda=0.1,\n",
        "        random_state=42\n",
        "    )\n",
        "    model.fit(X_train, y_train)\n",
        "    y_pred = model.predict(X_test)\n",
        "\n",
        "    acc = accuracy_score(y_test, y_pred)\n",
        "    f1 = f1_score(y_test, y_pred, average='macro')\n",
        "    conf = confusion_matrix(y_test, y_pred)\n",
        "\n",
        "    print(f\"\\n===== 📊 결과: {model_name} =====\")\n",
        "    print(\"✅ Accuracy:\", acc)\n",
        "    print(\"📊 Confusion Matrix:\\n\", conf)\n",
        "    print(\"📈 Classification Report:\\n\", classification_report(y_test, y_pred, digits=4))\n",
        "\n",
        "    # 혼동행렬 시각화 (함수 안으로 이동)\n",
        "    plt.figure(figsize=(6, 4))\n",
        "    sns.heatmap(conf, annot=True, fmt='d', cmap='Blues')\n",
        "    plt.title(f'{model_name} - Confusion Matrix')\n",
        "    plt.xlabel('Predicted')\n",
        "    plt.ylabel('Actual')\n",
        "    plt.show()\n",
        "\n",
        "    return acc, f1  # ✅ 함수 안에 있어야 함"
      ],
      "metadata": {
        "id": "i-BFOgKx6WzD"
      },
      "execution_count": 12,
      "outputs": []
    },
    {
      "cell_type": "code",
      "source": [
        "# ✅ 7. A모델 평가 (HTML 제외)\n",
        "X_a = df[base_features]\n",
        "y = df['label']\n",
        "acc_a, f1_a = evaluate_model(X_a, y, \"Model A (without HTML features)\")"
      ],
      "metadata": {
        "colab": {
          "base_uri": "https://localhost:8080/",
          "height": 1000
        },
        "id": "HJY517ah6Z4U",
        "outputId": "a5422dc6-da22-40a7-908d-f7cc4f39df9a"
      },
      "execution_count": 16,
      "outputs": [
        {
          "output_type": "stream",
          "name": "stdout",
          "text": [
            "[LightGBM] [Info] Auto-choosing col-wise multi-threading, the overhead of testing was 0.087319 seconds.\n",
            "You can set `force_col_wise=true` to remove the overhead.\n",
            "[LightGBM] [Info] Total Bins 1183\n",
            "[LightGBM] [Info] Number of data points in the train set: 509554, number of used features: 20\n",
            "[LightGBM] [Info] Start training from score -0.626529\n",
            "[LightGBM] [Info] Start training from score -1.802874\n",
            "[LightGBM] [Info] Start training from score -1.201537\n",
            "[LightGBM] [Warning] No further splits with positive gain, best gain: -inf\n",
            "[LightGBM] [Warning] No further splits with positive gain, best gain: -inf\n",
            "[LightGBM] [Warning] No further splits with positive gain, best gain: -inf\n",
            "[LightGBM] [Warning] No further splits with positive gain, best gain: -inf\n",
            "[LightGBM] [Warning] No further splits with positive gain, best gain: -inf\n",
            "[LightGBM] [Warning] No further splits with positive gain, best gain: -inf\n",
            "[LightGBM] [Warning] No further splits with positive gain, best gain: -inf\n",
            "[LightGBM] [Warning] No further splits with positive gain, best gain: -inf\n",
            "[LightGBM] [Warning] No further splits with positive gain, best gain: -inf\n",
            "[LightGBM] [Warning] No further splits with positive gain, best gain: -inf\n",
            "[LightGBM] [Warning] No further splits with positive gain, best gain: -inf\n",
            "[LightGBM] [Warning] No further splits with positive gain, best gain: -inf\n",
            "[LightGBM] [Warning] No further splits with positive gain, best gain: -inf\n",
            "[LightGBM] [Warning] No further splits with positive gain, best gain: -inf\n",
            "[LightGBM] [Warning] No further splits with positive gain, best gain: -inf\n",
            "[LightGBM] [Warning] No further splits with positive gain, best gain: -inf\n",
            "[LightGBM] [Warning] No further splits with positive gain, best gain: -inf\n",
            "[LightGBM] [Warning] No further splits with positive gain, best gain: -inf\n",
            "[LightGBM] [Warning] No further splits with positive gain, best gain: -inf\n",
            "[LightGBM] [Warning] No further splits with positive gain, best gain: -inf\n",
            "[LightGBM] [Warning] No further splits with positive gain, best gain: -inf\n",
            "[LightGBM] [Warning] No further splits with positive gain, best gain: -inf\n",
            "[LightGBM] [Warning] No further splits with positive gain, best gain: -inf\n",
            "[LightGBM] [Warning] No further splits with positive gain, best gain: -inf\n",
            "[LightGBM] [Warning] No further splits with positive gain, best gain: -inf\n",
            "[LightGBM] [Warning] No further splits with positive gain, best gain: -inf\n",
            "[LightGBM] [Warning] No further splits with positive gain, best gain: -inf\n",
            "[LightGBM] [Warning] No further splits with positive gain, best gain: -inf\n",
            "[LightGBM] [Warning] No further splits with positive gain, best gain: -inf\n",
            "[LightGBM] [Warning] No further splits with positive gain, best gain: -inf\n",
            "[LightGBM] [Warning] No further splits with positive gain, best gain: -inf\n",
            "[LightGBM] [Warning] No further splits with positive gain, best gain: -inf\n",
            "[LightGBM] [Warning] No further splits with positive gain, best gain: -inf\n",
            "[LightGBM] [Warning] No further splits with positive gain, best gain: -inf\n",
            "[LightGBM] [Warning] No further splits with positive gain, best gain: -inf\n",
            "[LightGBM] [Warning] No further splits with positive gain, best gain: -inf\n",
            "[LightGBM] [Warning] No further splits with positive gain, best gain: -inf\n",
            "[LightGBM] [Warning] No further splits with positive gain, best gain: -inf\n",
            "[LightGBM] [Warning] No further splits with positive gain, best gain: -inf\n",
            "[LightGBM] [Warning] No further splits with positive gain, best gain: -inf\n",
            "[LightGBM] [Warning] No further splits with positive gain, best gain: -inf\n",
            "[LightGBM] [Warning] No further splits with positive gain, best gain: -inf\n",
            "[LightGBM] [Warning] No further splits with positive gain, best gain: -inf\n",
            "[LightGBM] [Warning] No further splits with positive gain, best gain: -inf\n",
            "[LightGBM] [Warning] No further splits with positive gain, best gain: -inf\n",
            "[LightGBM] [Warning] No further splits with positive gain, best gain: -inf\n",
            "[LightGBM] [Warning] No further splits with positive gain, best gain: -inf\n",
            "[LightGBM] [Warning] No further splits with positive gain, best gain: -inf\n",
            "[LightGBM] [Warning] No further splits with positive gain, best gain: -inf\n",
            "[LightGBM] [Warning] No further splits with positive gain, best gain: -inf\n",
            "[LightGBM] [Warning] No further splits with positive gain, best gain: -inf\n",
            "[LightGBM] [Warning] No further splits with positive gain, best gain: -inf\n",
            "[LightGBM] [Warning] No further splits with positive gain, best gain: -inf\n",
            "[LightGBM] [Warning] No further splits with positive gain, best gain: -inf\n",
            "[LightGBM] [Warning] No further splits with positive gain, best gain: -inf\n",
            "[LightGBM] [Warning] No further splits with positive gain, best gain: -inf\n",
            "[LightGBM] [Warning] No further splits with positive gain, best gain: -inf\n",
            "[LightGBM] [Warning] No further splits with positive gain, best gain: -inf\n",
            "[LightGBM] [Warning] No further splits with positive gain, best gain: -inf\n",
            "[LightGBM] [Warning] No further splits with positive gain, best gain: -inf\n",
            "[LightGBM] [Warning] No further splits with positive gain, best gain: -inf\n",
            "[LightGBM] [Warning] No further splits with positive gain, best gain: -inf\n",
            "\n",
            "===== 📊 결과: Model A (without HTML features) =====\n",
            "✅ Accuracy: 0.8335256576313497\n",
            "📊 Confusion Matrix:\n",
            " [[60541   219  7378]\n",
            " [  577 17818  2586]\n",
            " [ 9599   848 27823]]\n",
            "📈 Classification Report:\n",
            "               precision    recall  f1-score   support\n",
            "\n",
            "         0.0     0.8561    0.8885    0.8720     68138\n",
            "         1.0     0.9435    0.8492    0.8939     20981\n",
            "         2.0     0.7363    0.7270    0.7316     38270\n",
            "\n",
            "    accuracy                         0.8335    127389\n",
            "   macro avg     0.8453    0.8216    0.8325    127389\n",
            "weighted avg     0.8345    0.8335    0.8334    127389\n",
            "\n"
          ]
        },
        {
          "output_type": "display_data",
          "data": {
            "text/plain": [
              "<Figure size 600x400 with 2 Axes>"
            ],
            "image/png": "[encoded data removed]"
          },
          "metadata": {}
        }
      ]
    },
    {
      "cell_type": "code",
      "source": [
        "# ✅ 8. B모델 평가 (HTML 포함)\n",
        "X_b = df[base_features + html_features]\n",
        "acc_b, f1_b = evaluate_model(X_b, y, \"Model B (with HTML features)\")"
      ],
      "metadata": {
        "colab": {
          "base_uri": "https://localhost:8080/",
          "height": 1000
        },
        "id": "QS7mnheZ6eoh",
        "outputId": "099a758f-bc0e-412a-a955-20bb3743f3d4"
      },
      "execution_count": 17,
      "outputs": [
        {
          "output_type": "stream",
          "name": "stdout",
          "text": [
            "[LightGBM] [Info] Auto-choosing col-wise multi-threading, the overhead of testing was 0.161066 seconds.\n",
            "You can set `force_col_wise=true` to remove the overhead.\n",
            "[LightGBM] [Info] Total Bins 1844\n",
            "[LightGBM] [Info] Number of data points in the train set: 509554, number of used features: 42\n",
            "[LightGBM] [Info] Start training from score -0.626529\n",
            "[LightGBM] [Info] Start training from score -1.802874\n",
            "[LightGBM] [Info] Start training from score -1.201537\n",
            "[LightGBM] [Warning] No further splits with positive gain, best gain: -inf\n",
            "[LightGBM] [Warning] No further splits with positive gain, best gain: -inf\n",
            "[LightGBM] [Warning] No further splits with positive gain, best gain: -inf\n",
            "[LightGBM] [Warning] No further splits with positive gain, best gain: -inf\n",
            "[LightGBM] [Warning] No further splits with positive gain, best gain: -inf\n",
            "[LightGBM] [Warning] No further splits with positive gain, best gain: -inf\n",
            "[LightGBM] [Warning] No further splits with positive gain, best gain: -inf\n",
            "[LightGBM] [Warning] No further splits with positive gain, best gain: -inf\n",
            "[LightGBM] [Warning] No further splits with positive gain, best gain: -inf\n",
            "[LightGBM] [Warning] No further splits with positive gain, best gain: -inf\n",
            "[LightGBM] [Warning] No further splits with positive gain, best gain: -inf\n",
            "[LightGBM] [Warning] No further splits with positive gain, best gain: -inf\n",
            "[LightGBM] [Warning] No further splits with positive gain, best gain: -inf\n",
            "[LightGBM] [Warning] No further splits with positive gain, best gain: -inf\n",
            "[LightGBM] [Warning] No further splits with positive gain, best gain: -inf\n",
            "[LightGBM] [Warning] No further splits with positive gain, best gain: -inf\n",
            "[LightGBM] [Warning] No further splits with positive gain, best gain: -inf\n",
            "[LightGBM] [Warning] No further splits with positive gain, best gain: -inf\n",
            "[LightGBM] [Warning] No further splits with positive gain, best gain: -inf\n",
            "[LightGBM] [Warning] No further splits with positive gain, best gain: -inf\n",
            "[LightGBM] [Warning] No further splits with positive gain, best gain: -inf\n",
            "[LightGBM] [Warning] No further splits with positive gain, best gain: -inf\n",
            "[LightGBM] [Warning] No further splits with positive gain, best gain: -inf\n",
            "[LightGBM] [Warning] No further splits with positive gain, best gain: -inf\n",
            "[LightGBM] [Warning] No further splits with positive gain, best gain: -inf\n",
            "[LightGBM] [Warning] No further splits with positive gain, best gain: -inf\n",
            "[LightGBM] [Warning] No further splits with positive gain, best gain: -inf\n",
            "[LightGBM] [Warning] No further splits with positive gain, best gain: -inf\n",
            "[LightGBM] [Warning] No further splits with positive gain, best gain: -inf\n",
            "[LightGBM] [Warning] No further splits with positive gain, best gain: -inf\n",
            "[LightGBM] [Warning] No further splits with positive gain, best gain: -inf\n",
            "[LightGBM] [Warning] No further splits with positive gain, best gain: -inf\n",
            "[LightGBM] [Warning] No further splits with positive gain, best gain: -inf\n",
            "[LightGBM] [Warning] No further splits with positive gain, best gain: -inf\n",
            "[LightGBM] [Warning] No further splits with positive gain, best gain: -inf\n",
            "[LightGBM] [Warning] No further splits with positive gain, best gain: -inf\n",
            "[LightGBM] [Warning] No further splits with positive gain, best gain: -inf\n",
            "[LightGBM] [Warning] No further splits with positive gain, best gain: -inf\n",
            "[LightGBM] [Warning] No further splits with positive gain, best gain: -inf\n",
            "[LightGBM] [Warning] No further splits with positive gain, best gain: -inf\n",
            "[LightGBM] [Warning] No further splits with positive gain, best gain: -inf\n",
            "[LightGBM] [Warning] No further splits with positive gain, best gain: -inf\n",
            "[LightGBM] [Warning] No further splits with positive gain, best gain: -inf\n",
            "[LightGBM] [Warning] No further splits with positive gain, best gain: -inf\n",
            "[LightGBM] [Warning] No further splits with positive gain, best gain: -inf\n",
            "[LightGBM] [Warning] No further splits with positive gain, best gain: -inf\n",
            "[LightGBM] [Warning] No further splits with positive gain, best gain: -inf\n",
            "[LightGBM] [Warning] No further splits with positive gain, best gain: -inf\n",
            "[LightGBM] [Warning] No further splits with positive gain, best gain: -inf\n",
            "[LightGBM] [Warning] No further splits with positive gain, best gain: -inf\n",
            "[LightGBM] [Warning] No further splits with positive gain, best gain: -inf\n",
            "[LightGBM] [Warning] No further splits with positive gain, best gain: -inf\n",
            "[LightGBM] [Warning] No further splits with positive gain, best gain: -inf\n",
            "[LightGBM] [Warning] No further splits with positive gain, best gain: -inf\n",
            "[LightGBM] [Warning] No further splits with positive gain, best gain: -inf\n",
            "[LightGBM] [Warning] No further splits with positive gain, best gain: -inf\n",
            "[LightGBM] [Warning] No further splits with positive gain, best gain: -inf\n",
            "[LightGBM] [Warning] No further splits with positive gain, best gain: -inf\n",
            "[LightGBM] [Warning] No further splits with positive gain, best gain: -inf\n",
            "[LightGBM] [Warning] No further splits with positive gain, best gain: -inf\n",
            "[LightGBM] [Warning] No further splits with positive gain, best gain: -inf\n",
            "[LightGBM] [Warning] No further splits with positive gain, best gain: -inf\n",
            "[LightGBM] [Warning] No further splits with positive gain, best gain: -inf\n",
            "[LightGBM] [Warning] No further splits with positive gain, best gain: -inf\n",
            "[LightGBM] [Warning] No further splits with positive gain, best gain: -inf\n",
            "[LightGBM] [Warning] No further splits with positive gain, best gain: -inf\n",
            "[LightGBM] [Warning] No further splits with positive gain, best gain: -inf\n",
            "[LightGBM] [Warning] No further splits with positive gain, best gain: -inf\n",
            "[LightGBM] [Warning] No further splits with positive gain, best gain: -inf\n",
            "[LightGBM] [Warning] No further splits with positive gain, best gain: -inf\n",
            "[LightGBM] [Warning] No further splits with positive gain, best gain: -inf\n",
            "[LightGBM] [Warning] No further splits with positive gain, best gain: -inf\n",
            "[LightGBM] [Warning] No further splits with positive gain, best gain: -inf\n",
            "[LightGBM] [Warning] No further splits with positive gain, best gain: -inf\n",
            "[LightGBM] [Warning] No further splits with positive gain, best gain: -inf\n",
            "[LightGBM] [Warning] No further splits with positive gain, best gain: -inf\n",
            "[LightGBM] [Warning] No further splits with positive gain, best gain: -inf\n",
            "[LightGBM] [Warning] No further splits with positive gain, best gain: -inf\n",
            "[LightGBM] [Warning] No further splits with positive gain, best gain: -inf\n",
            "[LightGBM] [Warning] No further splits with positive gain, best gain: -inf\n",
            "[LightGBM] [Warning] No further splits with positive gain, best gain: -inf\n",
            "[LightGBM] [Warning] No further splits with positive gain, best gain: -inf\n",
            "[LightGBM] [Warning] No further splits with positive gain, best gain: -inf\n",
            "[LightGBM] [Warning] No further splits with positive gain, best gain: -inf\n",
            "[LightGBM] [Warning] No further splits with positive gain, best gain: -inf\n",
            "[LightGBM] [Warning] No further splits with positive gain, best gain: -inf\n",
            "[LightGBM] [Warning] No further splits with positive gain, best gain: -inf\n",
            "[LightGBM] [Warning] No further splits with positive gain, best gain: -inf\n",
            "[LightGBM] [Warning] No further splits with positive gain, best gain: -inf\n",
            "[LightGBM] [Warning] No further splits with positive gain, best gain: -inf\n",
            "[LightGBM] [Warning] No further splits with positive gain, best gain: -inf\n",
            "[LightGBM] [Warning] No further splits with positive gain, best gain: -inf\n",
            "[LightGBM] [Warning] No further splits with positive gain, best gain: -inf\n",
            "[LightGBM] [Warning] No further splits with positive gain, best gain: -inf\n",
            "[LightGBM] [Warning] No further splits with positive gain, best gain: -inf\n",
            "[LightGBM] [Warning] No further splits with positive gain, best gain: -inf\n",
            "[LightGBM] [Warning] No further splits with positive gain, best gain: -inf\n",
            "[LightGBM] [Warning] No further splits with positive gain, best gain: -inf\n",
            "[LightGBM] [Warning] No further splits with positive gain, best gain: -inf\n",
            "[LightGBM] [Warning] No further splits with positive gain, best gain: -inf\n",
            "[LightGBM] [Warning] No further splits with positive gain, best gain: -inf\n",
            "[LightGBM] [Warning] No further splits with positive gain, best gain: -inf\n",
            "[LightGBM] [Warning] No further splits with positive gain, best gain: -inf\n",
            "[LightGBM] [Warning] No further splits with positive gain, best gain: -inf\n",
            "[LightGBM] [Warning] No further splits with positive gain, best gain: -inf\n",
            "[LightGBM] [Warning] No further splits with positive gain, best gain: -inf\n",
            "[LightGBM] [Warning] No further splits with positive gain, best gain: -inf\n",
            "[LightGBM] [Warning] No further splits with positive gain, best gain: -inf\n",
            "[LightGBM] [Warning] No further splits with positive gain, best gain: -inf\n",
            "[LightGBM] [Warning] No further splits with positive gain, best gain: -inf\n",
            "[LightGBM] [Warning] No further splits with positive gain, best gain: -inf\n",
            "[LightGBM] [Warning] No further splits with positive gain, best gain: -inf\n",
            "[LightGBM] [Warning] No further splits with positive gain, best gain: -inf\n",
            "[LightGBM] [Warning] No further splits with positive gain, best gain: -inf\n",
            "[LightGBM] [Warning] No further splits with positive gain, best gain: -inf\n",
            "[LightGBM] [Warning] No further splits with positive gain, best gain: -inf\n",
            "[LightGBM] [Warning] No further splits with positive gain, best gain: -inf\n",
            "[LightGBM] [Warning] No further splits with positive gain, best gain: -inf\n",
            "[LightGBM] [Warning] No further splits with positive gain, best gain: -inf\n",
            "[LightGBM] [Warning] No further splits with positive gain, best gain: -inf\n",
            "[LightGBM] [Warning] No further splits with positive gain, best gain: -inf\n",
            "[LightGBM] [Warning] No further splits with positive gain, best gain: -inf\n",
            "[LightGBM] [Warning] No further splits with positive gain, best gain: -inf\n",
            "[LightGBM] [Warning] No further splits with positive gain, best gain: -inf\n",
            "[LightGBM] [Warning] No further splits with positive gain, best gain: -inf\n",
            "[LightGBM] [Warning] No further splits with positive gain, best gain: -inf\n",
            "\n",
            "===== 📊 결과: Model B (with HTML features) =====\n",
            "✅ Accuracy: 0.8335099576886544\n",
            "📊 Confusion Matrix:\n",
            " [[60543   227  7368]\n",
            " [  579 17813  2589]\n",
            " [ 9595   851 27824]]\n",
            "📈 Classification Report:\n",
            "               precision    recall  f1-score   support\n",
            "\n",
            "         0.0     0.8561    0.8885    0.8720     68138\n",
            "         1.0     0.9429    0.8490    0.8935     20981\n",
            "         2.0     0.7365    0.7270    0.7317     38270\n",
            "\n",
            "    accuracy                         0.8335    127389\n",
            "   macro avg     0.8452    0.8215    0.8324    127389\n",
            "weighted avg     0.8345    0.8335    0.8334    127389\n",
            "\n"
          ]
        },
        {
          "output_type": "display_data",
          "data": {
            "text/plain": [
              "<Figure size 600x400 with 2 Axes>"
            ],
            "image/png": "[encoded data removed]"
          },
          "metadata": {}
        }
      ]
    },
    {
      "cell_type": "code",
      "source": [
        "# ✅ 9. Accuracy & F1 Score Comparison Visualization\n",
        "labels = ['Model A', 'Model B']\n",
        "accuracy_values = [acc_a, acc_b]\n",
        "f1_values = [f1_a, f1_b]\n",
        "\n",
        "plt.figure(figsize=(8, 4))\n",
        "bar_width = 0.35\n",
        "index = np.arange(len(labels))\n",
        "\n",
        "plt.bar(index, accuracy_values, bar_width, label='Accuracy')\n",
        "plt.bar(index + bar_width, f1_values, bar_width, label='F1 Score')\n",
        "\n",
        "plt.xlabel('Model Type')\n",
        "plt.ylabel('Score')\n",
        "plt.title('Accuracy / F1 Score Comparison')\n",
        "plt.xticks(index + bar_width / 2, labels)\n",
        "plt.ylim(0, 1)\n",
        "plt.legend()\n",
        "plt.tight_layout()\n",
        "plt.show()\n"
      ],
      "metadata": {
        "colab": {
          "base_uri": "https://localhost:8080/",
          "height": 407
        },
        "id": "zENZn2GE6gpR",
        "outputId": "a208e06c-d8b7-4461-9585-2d8d9a78aaad"
      },
      "execution_count": 18,
      "outputs": [
        {
          "output_type": "display_data",
          "data": {
            "text/plain": [
              "<Figure size 800x400 with 1 Axes>"
            ],
            "image/png": "[encoded data removed]"
          },
          "metadata": {}
        }
      ]
    },
    {
      "cell_type": "code",
      "source": [
        "# 89%"
      ],
      "metadata": {
        "id": "NAjYcGXr_r7i"
      },
      "execution_count": null,
      "outputs": []
    },
    {
      "cell_type": "code",
      "source": [
        "import pandas as pd\n",
        "import numpy as np\n",
        "import re\n",
        "import matplotlib.pyplot as plt\n",
        "import seaborn as sns\n",
        "from sklearn.model_selection import train_test_split\n",
        "from sklearn.metrics import classification_report, accuracy_score, confusion_matrix, f1_score\n",
        "from sklearn.utils import resample\n",
        "from lightgbm import LGBMClassifier, plot_importance"
      ],
      "metadata": {
        "id": "HYCN_nhZAfJK"
      },
      "execution_count": 30,
      "outputs": []
    },
    {
      "cell_type": "code",
      "source": [
        "# ✅ 1. 데이터 로드 및 전처리\n",
        "df = pd.read_csv('real_final.csv').dropna(subset=['url', 'label'])\n",
        "\n",
        "df['url_length'] = df['url'].apply(lambda x: len(str(x)))\n",
        "df['count_dots'] = df['url'].apply(lambda x: str(x).count('.'))\n",
        "df['count_digits'] = df['url'].apply(lambda x: sum(c.isdigit() for c in str(x)))\n",
        "df['count_special'] = df['url'].apply(lambda x: len(re.findall(r'[-_%=]', str(x))))\n",
        "df['url_entropy'] = df['url'].apply(\n",
        "    lambda x: -sum(p * np.log2(p) for p in [count / len(x)\n",
        "        for count in np.bincount([ord(c) for c in str(x)]) if count > 0])\n",
        "    if isinstance(x, str) and len(x) > 0 else 0\n",
        ")\n",
        "df = df.drop('url', axis=1)"
      ],
      "metadata": {
        "colab": {
          "base_uri": "https://localhost:8080/"
        },
        "id": "NheJTE_tAn5z",
        "outputId": "ab432cd0-d25a-4853-8c01-961f74b124d1"
      },
      "execution_count": 31,
      "outputs": [
        {
          "output_type": "stream",
          "name": "stderr",
          "text": [
            "<ipython-input-31-4196564853>:2: DtypeWarning: Columns (47) have mixed types. Specify dtype option on import or set low_memory=False.\n",
            "  df = pd.read_csv('real_final.csv').dropna(subset=['url', 'label'])\n"
          ]
        }
      ]
    },
    {
      "cell_type": "code",
      "source": [
        "# ✅ 2. HTML 피처 처리\n",
        "html_features = [col for col in df.columns if col.startswith(\"html_\") and col != 'html_is_shortened']\n",
        "df[html_features] = df[html_features].fillna(0)\n",
        "df['url_available'] = df['url_available'].fillna(0).astype(int)\n",
        "df_html = df[df['url_available'] == 1]"
      ],
      "metadata": {
        "id": "uTmPVvvKAo8H"
      },
      "execution_count": 32,
      "outputs": []
    },
    {
      "cell_type": "code",
      "source": [
        "# ✅ 3. 피처 리스트 구성\n",
        "base_features = [col for col in df.columns if col not in html_features + ['label', 'url_available']]\n",
        "features_all = base_features + html_features"
      ],
      "metadata": {
        "id": "ilWttNB-Aqek"
      },
      "execution_count": 33,
      "outputs": []
    },
    {
      "cell_type": "code",
      "source": [
        "# ✅ 4. 오버샘플링\n",
        "df_html_upsampled = resample(df_html, replace=True, n_samples=20000, random_state=42)\n"
      ],
      "metadata": {
        "id": "0xqlujxTArL5"
      },
      "execution_count": 34,
      "outputs": []
    },
    {
      "cell_type": "code",
      "source": [
        "# ✅ 5. 학습 및 예측\n",
        "X = df_html_upsampled[features_all]\n",
        "y = df_html_upsampled['label']\n",
        "X_train, X_test, y_train, y_test = train_test_split(X, y, test_size=0.2, random_state=42)\n",
        "\n",
        "model = LGBMClassifier(random_state=42)\n",
        "model.fit(X_train, y_train)\n",
        "\n",
        "y_pred = model.predict(X_test)"
      ],
      "metadata": {
        "colab": {
          "base_uri": "https://localhost:8080/"
        },
        "id": "UOZGoZkHArvr",
        "outputId": "cd905c6d-6c50-4b08-d2e4-0faefe153ed4"
      },
      "execution_count": 35,
      "outputs": [
        {
          "output_type": "stream",
          "name": "stdout",
          "text": [
            "[LightGBM] [Info] Auto-choosing row-wise multi-threading, the overhead of testing was 0.005047 seconds.\n",
            "You can set `force_row_wise=true` to remove the overhead.\n",
            "And if memory is not enough, you can set `force_col_wise=true`.\n",
            "[LightGBM] [Info] Total Bins 1701\n",
            "[LightGBM] [Info] Number of data points in the train set: 16000, number of used features: 45\n",
            "[LightGBM] [Info] Start training from score -0.640673\n",
            "[LightGBM] [Info] Start training from score -1.801053\n",
            "[LightGBM] [Info] Start training from score -1.177858\n"
          ]
        }
      ]
    },
    {
      "cell_type": "code",
      "source": [
        "# ✅ 6. 평가\n",
        "acc = accuracy_score(y_test, y_pred)\n",
        "f1_macro = f1_score(y_test, y_pred, average='macro')\n",
        "conf_matrix = confusion_matrix(y_test, y_pred)\n",
        "\n",
        "print(\"✅ Accuracy:\", acc)\n",
        "print(\"✅ F1 Score (macro):\", f1_macro)\n",
        "print(\"✅ Classification Report:\\n\", classification_report(y_test, y_pred))\n",
        "print(\"✅ Confusion Matrix:\\n\", conf_matrix)"
      ],
      "metadata": {
        "colab": {
          "base_uri": "https://localhost:8080/"
        },
        "id": "IpDjn1hRAsgg",
        "outputId": "60678912-b94b-4375-bb19-de8c60b26fbf"
      },
      "execution_count": 36,
      "outputs": [
        {
          "output_type": "stream",
          "name": "stdout",
          "text": [
            "✅ Accuracy: 0.892\n",
            "✅ F1 Score (macro): 0.8925826662436577\n",
            "✅ Classification Report:\n",
            "               precision    recall  f1-score   support\n",
            "\n",
            "         0.0       0.90      0.93      0.92      2081\n",
            "         1.0       0.96      0.90      0.93       667\n",
            "         2.0       0.84      0.82      0.83      1252\n",
            "\n",
            "    accuracy                           0.89      4000\n",
            "   macro avg       0.90      0.88      0.89      4000\n",
            "weighted avg       0.89      0.89      0.89      4000\n",
            "\n",
            "✅ Confusion Matrix:\n",
            " [[1942    3  136]\n",
            " [   9  602   56]\n",
            " [ 208   20 1024]]\n"
          ]
        }
      ]
    },
    {
      "cell_type": "code",
      "source": [
        "# ✅ 7. 혼동 행렬 시각화 (붉은 계열)\n",
        "plt.figure(figsize=(6, 4))\n",
        "sns.heatmap(conf_matrix, annot=True, fmt='d', cmap='Reds')\n",
        "plt.title(\"Confusion Matrix (HTML Model with Oversampling)\")\n",
        "plt.xlabel(\"Predicted\")\n",
        "plt.ylabel(\"Actual\")\n",
        "plt.tight_layout()\n",
        "plt.show()"
      ],
      "metadata": {
        "colab": {
          "base_uri": "https://localhost:8080/",
          "height": 407
        },
        "id": "nq5VpWT6Ativ",
        "outputId": "b4ce0e01-9556-46ec-c3d2-20c78f34474b"
      },
      "execution_count": 42,
      "outputs": [
        {
          "output_type": "display_data",
          "data": {
            "text/plain": [
              "<Figure size 600x400 with 2 Axes>"
            ],
            "image/png": "[encoded data removed]"
          },
          "metadata": {}
        }
      ]
    },
    {
      "cell_type": "code",
      "source": [
        "# ✅ 8. 클래스별 F1-score 시각화 (문자열 키로 접근)\n",
        "report = classification_report(y_test, y_pred, output_dict=True)\n",
        "\n",
        "# 클래스 키는 문자열 형태로 존재함\n",
        "f1_scores = [report['0.0']['f1-score'], report['1.0']['f1-score'], report['2.0']['f1-score']]\n",
        "\n",
        "classes = ['Benign (0)', 'Malware (1)', 'Phishing (2)']\n",
        "colors = ['#f4a582', '#d6604d', '#b2182b']\n",
        "\n",
        "plt.figure(figsize=(6, 4))\n",
        "bars = plt.bar(classes, f1_scores, color=colors)\n",
        "plt.ylim(0, 1)\n",
        "plt.xlabel('Class')\n",
        "plt.ylabel('F1-Score')\n",
        "plt.title('🔍 Class-wise F1-Scores')\n",
        "\n",
        "# 막대 위에 점수 표기\n",
        "for bar, score in zip(bars, f1_scores):\n",
        "    plt.text(bar.get_x() + bar.get_width() / 2, score - 0.08, f'{score:.2f}',\n",
        "             ha='center', va='bottom', color='white', fontweight='bold')\n",
        "\n",
        "plt.tight_layout()\n",
        "plt.show()\n"
      ],
      "metadata": {
        "colab": {
          "base_uri": "https://localhost:8080/",
          "height": 501
        },
        "id": "RhXvF43-AugA",
        "outputId": "a8a2a674-cb16-4cf3-95e1-355a3806cc3c"
      },
      "execution_count": 40,
      "outputs": [
        {
          "output_type": "stream",
          "name": "stderr",
          "text": [
            "<ipython-input-40-636767075>:22: UserWarning: Glyph 128269 (\\N{LEFT-POINTING MAGNIFYING GLASS}) missing from font(s) DejaVu Sans.\n",
            "  plt.tight_layout()\n",
            "/usr/local/lib/python3.11/dist-packages/IPython/core/pylabtools.py:151: UserWarning: Glyph 128269 (\\N{LEFT-POINTING MAGNIFYING GLASS}) missing from font(s) DejaVu Sans.\n",
            "  fig.canvas.print_figure(bytes_io, **kw)\n"
          ]
        },
        {
          "output_type": "display_data",
          "data": {
            "text/plain": [
              "<Figure size 600x400 with 1 Axes>"
            ],
            "image/png": "[encoded data removed]"
          },
          "metadata": {}
        }
      ]
    },
    {
      "cell_type": "code",
      "source": [
        "# ✅ 9. 피처 중요도 시각화\n",
        "plt.figure(figsize=(8, 6))\n",
        "plot_importance(model, max_num_features=15, importance_type='gain', title=\"Top 15 Feature Importances\", height=0.5)\n",
        "plt.tight_layout()\n",
        "plt.show()"
      ],
      "metadata": {
        "colab": {
          "base_uri": "https://localhost:8080/",
          "height": 505
        },
        "id": "lpUs4w8uBVWY",
        "outputId": "d1f4dca5-72b5-40c4-acf8-b74e8fd50124"
      },
      "execution_count": 41,
      "outputs": [
        {
          "output_type": "display_data",
          "data": {
            "text/plain": [
              "<Figure size 800x600 with 0 Axes>"
            ]
          },
          "metadata": {}
        },
        {
          "output_type": "display_data",
          "data": {
            "text/plain": [
              "<Figure size 640x480 with 1 Axes>"
            ],
            "image/png": "[encoded data removed]"
          },
          "metadata": {}
        }
      ]
    },
    {
      "cell_type": "code",
      "source": [
        "# 메인(기본) 혼동행렬 그림"
      ],
      "metadata": {
        "id": "YvmRuQpOOHSx"
      },
      "execution_count": null,
      "outputs": []
    },
    {
      "cell_type": "code",
      "source": [
        "import pandas as pd\n",
        "import numpy as np\n",
        "import re\n",
        "import matplotlib.pyplot as plt\n",
        "import seaborn as sns\n",
        "from sklearn.model_selection import train_test_split\n",
        "from sklearn.metrics import classification_report, accuracy_score, confusion_matrix\n",
        "from lightgbm import LGBMClassifier"
      ],
      "metadata": {
        "id": "-5o5ZUyxOSp5"
      },
      "execution_count": 43,
      "outputs": []
    },
    {
      "cell_type": "code",
      "source": [
        "# ✅ 1. 데이터 불러오기\n",
        "df = pd.read_csv('real_final.csv').dropna(subset=['url', 'label'])"
      ],
      "metadata": {
        "colab": {
          "base_uri": "https://localhost:8080/"
        },
        "id": "Cqkuw_jBOTlF",
        "outputId": "93fa4665-165e-4b41-90c7-302f44dd488f"
      },
      "execution_count": 44,
      "outputs": [
        {
          "output_type": "stream",
          "name": "stderr",
          "text": [
            "<ipython-input-44-1486842807>:2: DtypeWarning: Columns (47) have mixed types. Specify dtype option on import or set low_memory=False.\n",
            "  df = pd.read_csv('real_final.csv').dropna(subset=['url', 'label'])\n"
          ]
        }
      ]
    },
    {
      "cell_type": "code",
      "source": [
        "# ✅ 2. 공통 피처 생성\n",
        "df['url_length'] = df['url'].apply(lambda x: len(str(x)))\n",
        "df['count_dots'] = df['url'].apply(lambda x: str(x).count('.'))\n",
        "df['count_digits'] = df['url'].apply(lambda x: sum(c.isdigit() for c in str(x)))\n",
        "df['count_special'] = df['url'].apply(lambda x: len(re.findall(r'[-_%=]', str(x))))\n",
        "df['url_entropy'] = df['url'].apply(\n",
        "    lambda x: -sum(p * np.log2(p) for p in [count / len(x)\n",
        "        for count in np.bincount([ord(c) for c in str(x)]) if count > 0])\n",
        "    if isinstance(x, str) and len(x) > 0 else 0\n",
        ")\n",
        "df = df.drop('url', axis=1)"
      ],
      "metadata": {
        "id": "2p_04acNOUYo"
      },
      "execution_count": 45,
      "outputs": []
    },
    {
      "cell_type": "code",
      "source": [
        "# ✅ 3. HTML 피처 추출 + 결측값 처리\n",
        "html_features = [col for col in df.columns if col.startswith(\"html_\") and col != 'html_is_shortened']\n",
        "df[html_features] = df[html_features].fillna(0)"
      ],
      "metadata": {
        "id": "cfWOV-i9OVNR"
      },
      "execution_count": 46,
      "outputs": []
    },
    {
      "cell_type": "code",
      "source": [
        "# ✅ 4. 데이터 분리\n",
        "df_base = df[df['url_available'] == 0]  # 기본 모델용\n",
        "df_html = df[df['url_available'] == 1]  # 보조 모델용"
      ],
      "metadata": {
        "id": "FKNEinnVOV23"
      },
      "execution_count": 47,
      "outputs": []
    },
    {
      "cell_type": "code",
      "source": [
        "# ✅ 5. 기본 모델 (URL 기반만)\n",
        "base_features = [col for col in df.columns if col not in html_features + ['label', 'url_available']]\n",
        "X_base = df_base[base_features]\n",
        "y_base = df_base['label']\n",
        "\n",
        "X_base_train, X_base_test, y_base_train, y_base_test = train_test_split(X_base, y_base, test_size=0.2, random_state=42)\n",
        "\n",
        "base_model = LGBMClassifier(random_state=42)\n",
        "base_model.fit(X_base_train, y_base_train)"
      ],
      "metadata": {
        "colab": {
          "base_uri": "https://localhost:8080/",
          "height": 210
        },
        "id": "L6qvrJs9OW1y",
        "outputId": "16d8729f-4b99-4d8c-b556-3581f3a1ff38"
      },
      "execution_count": 48,
      "outputs": [
        {
          "output_type": "stream",
          "name": "stdout",
          "text": [
            "[LightGBM] [Info] Auto-choosing col-wise multi-threading, the overhead of testing was 0.157850 seconds.\n",
            "You can set `force_col_wise=true` to remove the overhead.\n",
            "[LightGBM] [Info] Total Bins 1183\n",
            "[LightGBM] [Info] Number of data points in the train set: 501016, number of used features: 20\n",
            "[LightGBM] [Info] Start training from score -0.626398\n",
            "[LightGBM] [Info] Start training from score -1.800778\n",
            "[LightGBM] [Info] Start training from score -1.202921\n"
          ]
        },
        {
          "output_type": "execute_result",
          "data": {
            "text/plain": [
              "LGBMClassifier(random_state=42)"
            ],
            "text/html": [
              "<style>#sk-container-id-2 {\n",
              "  /* Definition of color scheme common for light and dark mode */\n",
              "  --sklearn-color-text: #000;\n",
              "  --sklearn-color-text-muted: #666;\n",
              "  --sklearn-color-line: gray;\n",
              "  /* Definition of color scheme for unfitted estimators */\n",
              "  --sklearn-color-unfitted-level-0: #fff5e6;\n",
              "  --sklearn-color-unfitted-level-1: #f6e4d2;\n",
              "  --sklearn-color-unfitted-level-2: #ffe0b3;\n",
              "  --sklearn-color-unfitted-level-3: chocolate;\n",
              "  /* Definition of color scheme for fitted estimators */\n",
              "  --sklearn-color-fitted-level-0: #f0f8ff;\n",
              "  --sklearn-color-fitted-level-1: #d4ebff;\n",
              "  --sklearn-color-fitted-level-2: #b3dbfd;\n",
              "  --sklearn-color-fitted-level-3: cornflowerblue;\n",
              "\n",
              "  /* Specific color for light theme */\n",
              "  --sklearn-color-text-on-default-background: var(--sg-text-color, var(--theme-code-foreground, var(--jp-content-font-color1, black)));\n",
              "  --sklearn-color-background: var(--sg-background-color, var(--theme-background, var(--jp-layout-color0, white)));\n",
              "  --sklearn-color-border-box: var(--sg-text-color, var(--theme-code-foreground, var(--jp-content-font-color1, black)));\n",
              "  --sklearn-color-icon: #696969;\n",
              "\n",
              "  @media (prefers-color-scheme: dark) {\n",
              "    /* Redefinition of color scheme for dark theme */\n",
              "    --sklearn-color-text-on-default-background: var(--sg-text-color, var(--theme-code-foreground, var(--jp-content-font-color1, white)));\n",
              "    --sklearn-color-background: var(--sg-background-color, var(--theme-background, var(--jp-layout-color0, #111)));\n",
              "    --sklearn-color-border-box: var(--sg-text-color, var(--theme-code-foreground, var(--jp-content-font-color1, white)));\n",
              "    --sklearn-color-icon: #878787;\n",
              "  }\n",
              "}\n",
              "\n",
              "#sk-container-id-2 {\n",
              "  color: var(--sklearn-color-text);\n",
              "}\n",
              "\n",
              "#sk-container-id-2 pre {\n",
              "  padding: 0;\n",
              "}\n",
              "\n",
              "#sk-container-id-2 input.sk-hidden--visually {\n",
              "  border: 0;\n",
              "  clip: rect(1px 1px 1px 1px);\n",
              "  clip: rect(1px, 1px, 1px, 1px);\n",
              "  height: 1px;\n",
              "  margin: -1px;\n",
              "  overflow: hidden;\n",
              "  padding: 0;\n",
              "  position: absolute;\n",
              "  width: 1px;\n",
              "}\n",
              "\n",
              "#sk-container-id-2 div.sk-dashed-wrapped {\n",
              "  border: 1px dashed var(--sklearn-color-line);\n",
              "  margin: 0 0.4em 0.5em 0.4em;\n",
              "  box-sizing: border-box;\n",
              "  padding-bottom: 0.4em;\n",
              "  background-color: var(--sklearn-color-background);\n",
              "}\n",
              "\n",
              "#sk-container-id-2 div.sk-container {\n",
              "  /* jupyter's `normalize.less` sets `[hidden] { display: none; }`\n",
              "     but bootstrap.min.css set `[hidden] { display: none !important; }`\n",
              "     so we also need the `!important` here to be able to override the\n",
              "     default hidden behavior on the sphinx rendered scikit-learn.org.\n",
              "     See: https://github.com/scikit-learn/scikit-learn/issues/21755 */\n",
              "  display: inline-block !important;\n",
              "  position: relative;\n",
              "}\n",
              "\n",
              "#sk-container-id-2 div.sk-text-repr-fallback {\n",
              "  display: none;\n",
              "}\n",
              "\n",
              "div.sk-parallel-item,\n",
              "div.sk-serial,\n",
              "div.sk-item {\n",
              "  /* draw centered vertical line to link estimators */\n",
              "  background-image: linear-gradient(var(--sklearn-color-text-on-default-background), var(--sklearn-color-text-on-default-background));\n",
              "  background-size: 2px 100%;\n",
              "  background-repeat: no-repeat;\n",
              "  background-position: center center;\n",
              "}\n",
              "\n",
              "/* Parallel-specific style estimator block */\n",
              "\n",
              "#sk-container-id-2 div.sk-parallel-item::after {\n",
              "  content: \"\";\n",
              "  width: 100%;\n",
              "  border-bottom: 2px solid var(--sklearn-color-text-on-default-background);\n",
              "  flex-grow: 1;\n",
              "}\n",
              "\n",
              "#sk-container-id-2 div.sk-parallel {\n",
              "  display: flex;\n",
              "  align-items: stretch;\n",
              "  justify-content: center;\n",
              "  background-color: var(--sklearn-color-background);\n",
              "  position: relative;\n",
              "}\n",
              "\n",
              "#sk-container-id-2 div.sk-parallel-item {\n",
              "  display: flex;\n",
              "  flex-direction: column;\n",
              "}\n",
              "\n",
              "#sk-container-id-2 div.sk-parallel-item:first-child::after {\n",
              "  align-self: flex-end;\n",
              "  width: 50%;\n",
              "}\n",
              "\n",
              "#sk-container-id-2 div.sk-parallel-item:last-child::after {\n",
              "  align-self: flex-start;\n",
              "  width: 50%;\n",
              "}\n",
              "\n",
              "#sk-container-id-2 div.sk-parallel-item:only-child::after {\n",
              "  width: 0;\n",
              "}\n",
              "\n",
              "/* Serial-specific style estimator block */\n",
              "\n",
              "#sk-container-id-2 div.sk-serial {\n",
              "  display: flex;\n",
              "  flex-direction: column;\n",
              "  align-items: center;\n",
              "  background-color: var(--sklearn-color-background);\n",
              "  padding-right: 1em;\n",
              "  padding-left: 1em;\n",
              "}\n",
              "\n",
              "\n",
              "/* Toggleable style: style used for estimator/Pipeline/ColumnTransformer box that is\n",
              "clickable and can be expanded/collapsed.\n",
              "- Pipeline and ColumnTransformer use this feature and define the default style\n",
              "- Estimators will overwrite some part of the style using the `sk-estimator` class\n",
              "*/\n",
              "\n",
              "/* Pipeline and ColumnTransformer style (default) */\n",
              "\n",
              "#sk-container-id-2 div.sk-toggleable {\n",
              "  /* Default theme specific background. It is overwritten whether we have a\n",
              "  specific estimator or a Pipeline/ColumnTransformer */\n",
              "  background-color: var(--sklearn-color-background);\n",
              "}\n",
              "\n",
              "/* Toggleable label */\n",
              "#sk-container-id-2 label.sk-toggleable__label {\n",
              "  cursor: pointer;\n",
              "  display: flex;\n",
              "  width: 100%;\n",
              "  margin-bottom: 0;\n",
              "  padding: 0.5em;\n",
              "  box-sizing: border-box;\n",
              "  text-align: center;\n",
              "  align-items: start;\n",
              "  justify-content: space-between;\n",
              "  gap: 0.5em;\n",
              "}\n",
              "\n",
              "#sk-container-id-2 label.sk-toggleable__label .caption {\n",
              "  font-size: 0.6rem;\n",
              "  font-weight: lighter;\n",
              "  color: var(--sklearn-color-text-muted);\n",
              "}\n",
              "\n",
              "#sk-container-id-2 label.sk-toggleable__label-arrow:before {\n",
              "  /* Arrow on the left of the label */\n",
              "  content: \"▸\";\n",
              "  float: left;\n",
              "  margin-right: 0.25em;\n",
              "  color: var(--sklearn-color-icon);\n",
              "}\n",
              "\n",
              "#sk-container-id-2 label.sk-toggleable__label-arrow:hover:before {\n",
              "  color: var(--sklearn-color-text);\n",
              "}\n",
              "\n",
              "/* Toggleable content - dropdown */\n",
              "\n",
              "#sk-container-id-2 div.sk-toggleable__content {\n",
              "  max-height: 0;\n",
              "  max-width: 0;\n",
              "  overflow: hidden;\n",
              "  text-align: left;\n",
              "  /* unfitted */\n",
              "  background-color: var(--sklearn-color-unfitted-level-0);\n",
              "}\n",
              "\n",
              "#sk-container-id-2 div.sk-toggleable__content.fitted {\n",
              "  /* fitted */\n",
              "  background-color: var(--sklearn-color-fitted-level-0);\n",
              "}\n",
              "\n",
              "#sk-container-id-2 div.sk-toggleable__content pre {\n",
              "  margin: 0.2em;\n",
              "  border-radius: 0.25em;\n",
              "  color: var(--sklearn-color-text);\n",
              "  /* unfitted */\n",
              "  background-color: var(--sklearn-color-unfitted-level-0);\n",
              "}\n",
              "\n",
              "#sk-container-id-2 div.sk-toggleable__content.fitted pre {\n",
              "  /* unfitted */\n",
              "  background-color: var(--sklearn-color-fitted-level-0);\n",
              "}\n",
              "\n",
              "#sk-container-id-2 input.sk-toggleable__control:checked~div.sk-toggleable__content {\n",
              "  /* Expand drop-down */\n",
              "  max-height: 200px;\n",
              "  max-width: 100%;\n",
              "  overflow: auto;\n",
              "}\n",
              "\n",
              "#sk-container-id-2 input.sk-toggleable__control:checked~label.sk-toggleable__label-arrow:before {\n",
              "  content: \"▾\";\n",
              "}\n",
              "\n",
              "/* Pipeline/ColumnTransformer-specific style */\n",
              "\n",
              "#sk-container-id-2 div.sk-label input.sk-toggleable__control:checked~label.sk-toggleable__label {\n",
              "  color: var(--sklearn-color-text);\n",
              "  background-color: var(--sklearn-color-unfitted-level-2);\n",
              "}\n",
              "\n",
              "#sk-container-id-2 div.sk-label.fitted input.sk-toggleable__control:checked~label.sk-toggleable__label {\n",
              "  background-color: var(--sklearn-color-fitted-level-2);\n",
              "}\n",
              "\n",
              "/* Estimator-specific style */\n",
              "\n",
              "/* Colorize estimator box */\n",
              "#sk-container-id-2 div.sk-estimator input.sk-toggleable__control:checked~label.sk-toggleable__label {\n",
              "  /* unfitted */\n",
              "  background-color: var(--sklearn-color-unfitted-level-2);\n",
              "}\n",
              "\n",
              "#sk-container-id-2 div.sk-estimator.fitted input.sk-toggleable__control:checked~label.sk-toggleable__label {\n",
              "  /* fitted */\n",
              "  background-color: var(--sklearn-color-fitted-level-2);\n",
              "}\n",
              "\n",
              "#sk-container-id-2 div.sk-label label.sk-toggleable__label,\n",
              "#sk-container-id-2 div.sk-label label {\n",
              "  /* The background is the default theme color */\n",
              "  color: var(--sklearn-color-text-on-default-background);\n",
              "}\n",
              "\n",
              "/* On hover, darken the color of the background */\n",
              "#sk-container-id-2 div.sk-label:hover label.sk-toggleable__label {\n",
              "  color: var(--sklearn-color-text);\n",
              "  background-color: var(--sklearn-color-unfitted-level-2);\n",
              "}\n",
              "\n",
              "/* Label box, darken color on hover, fitted */\n",
              "#sk-container-id-2 div.sk-label.fitted:hover label.sk-toggleable__label.fitted {\n",
              "  color: var(--sklearn-color-text);\n",
              "  background-color: var(--sklearn-color-fitted-level-2);\n",
              "}\n",
              "\n",
              "/* Estimator label */\n",
              "\n",
              "#sk-container-id-2 div.sk-label label {\n",
              "  font-family: monospace;\n",
              "  font-weight: bold;\n",
              "  display: inline-block;\n",
              "  line-height: 1.2em;\n",
              "}\n",
              "\n",
              "#sk-container-id-2 div.sk-label-container {\n",
              "  text-align: center;\n",
              "}\n",
              "\n",
              "/* Estimator-specific */\n",
              "#sk-container-id-2 div.sk-estimator {\n",
              "  font-family: monospace;\n",
              "  border: 1px dotted var(--sklearn-color-border-box);\n",
              "  border-radius: 0.25em;\n",
              "  box-sizing: border-box;\n",
              "  margin-bottom: 0.5em;\n",
              "  /* unfitted */\n",
              "  background-color: var(--sklearn-color-unfitted-level-0);\n",
              "}\n",
              "\n",
              "#sk-container-id-2 div.sk-estimator.fitted {\n",
              "  /* fitted */\n",
              "  background-color: var(--sklearn-color-fitted-level-0);\n",
              "}\n",
              "\n",
              "/* on hover */\n",
              "#sk-container-id-2 div.sk-estimator:hover {\n",
              "  /* unfitted */\n",
              "  background-color: var(--sklearn-color-unfitted-level-2);\n",
              "}\n",
              "\n",
              "#sk-container-id-2 div.sk-estimator.fitted:hover {\n",
              "  /* fitted */\n",
              "  background-color: var(--sklearn-color-fitted-level-2);\n",
              "}\n",
              "\n",
              "/* Specification for estimator info (e.g. \"i\" and \"?\") */\n",
              "\n",
              "/* Common style for \"i\" and \"?\" */\n",
              "\n",
              ".sk-estimator-doc-link,\n",
              "a:link.sk-estimator-doc-link,\n",
              "a:visited.sk-estimator-doc-link {\n",
              "  float: right;\n",
              "  font-size: smaller;\n",
              "  line-height: 1em;\n",
              "  font-family: monospace;\n",
              "  background-color: var(--sklearn-color-background);\n",
              "  border-radius: 1em;\n",
              "  height: 1em;\n",
              "  width: 1em;\n",
              "  text-decoration: none !important;\n",
              "  margin-left: 0.5em;\n",
              "  text-align: center;\n",
              "  /* unfitted */\n",
              "  border: var(--sklearn-color-unfitted-level-1) 1pt solid;\n",
              "  color: var(--sklearn-color-unfitted-level-1);\n",
              "}\n",
              "\n",
              ".sk-estimator-doc-link.fitted,\n",
              "a:link.sk-estimator-doc-link.fitted,\n",
              "a:visited.sk-estimator-doc-link.fitted {\n",
              "  /* fitted */\n",
              "  border: var(--sklearn-color-fitted-level-1) 1pt solid;\n",
              "  color: var(--sklearn-color-fitted-level-1);\n",
              "}\n",
              "\n",
              "/* On hover */\n",
              "div.sk-estimator:hover .sk-estimator-doc-link:hover,\n",
              ".sk-estimator-doc-link:hover,\n",
              "div.sk-label-container:hover .sk-estimator-doc-link:hover,\n",
              ".sk-estimator-doc-link:hover {\n",
              "  /* unfitted */\n",
              "  background-color: var(--sklearn-color-unfitted-level-3);\n",
              "  color: var(--sklearn-color-background);\n",
              "  text-decoration: none;\n",
              "}\n",
              "\n",
              "div.sk-estimator.fitted:hover .sk-estimator-doc-link.fitted:hover,\n",
              ".sk-estimator-doc-link.fitted:hover,\n",
              "div.sk-label-container:hover .sk-estimator-doc-link.fitted:hover,\n",
              ".sk-estimator-doc-link.fitted:hover {\n",
              "  /* fitted */\n",
              "  background-color: var(--sklearn-color-fitted-level-3);\n",
              "  color: var(--sklearn-color-background);\n",
              "  text-decoration: none;\n",
              "}\n",
              "\n",
              "/* Span, style for the box shown on hovering the info icon */\n",
              ".sk-estimator-doc-link span {\n",
              "  display: none;\n",
              "  z-index: 9999;\n",
              "  position: relative;\n",
              "  font-weight: normal;\n",
              "  right: .2ex;\n",
              "  padding: .5ex;\n",
              "  margin: .5ex;\n",
              "  width: min-content;\n",
              "  min-width: 20ex;\n",
              "  max-width: 50ex;\n",
              "  color: var(--sklearn-color-text);\n",
              "  box-shadow: 2pt 2pt 4pt #999;\n",
              "  /* unfitted */\n",
              "  background: var(--sklearn-color-unfitted-level-0);\n",
              "  border: .5pt solid var(--sklearn-color-unfitted-level-3);\n",
              "}\n",
              "\n",
              ".sk-estimator-doc-link.fitted span {\n",
              "  /* fitted */\n",
              "  background: var(--sklearn-color-fitted-level-0);\n",
              "  border: var(--sklearn-color-fitted-level-3);\n",
              "}\n",
              "\n",
              ".sk-estimator-doc-link:hover span {\n",
              "  display: block;\n",
              "}\n",
              "\n",
              "/* \"?\"-specific style due to the `<a>` HTML tag */\n",
              "\n",
              "#sk-container-id-2 a.estimator_doc_link {\n",
              "  float: right;\n",
              "  font-size: 1rem;\n",
              "  line-height: 1em;\n",
              "  font-family: monospace;\n",
              "  background-color: var(--sklearn-color-background);\n",
              "  border-radius: 1rem;\n",
              "  height: 1rem;\n",
              "  width: 1rem;\n",
              "  text-decoration: none;\n",
              "  /* unfitted */\n",
              "  color: var(--sklearn-color-unfitted-level-1);\n",
              "  border: var(--sklearn-color-unfitted-level-1) 1pt solid;\n",
              "}\n",
              "\n",
              "#sk-container-id-2 a.estimator_doc_link.fitted {\n",
              "  /* fitted */\n",
              "  border: var(--sklearn-color-fitted-level-1) 1pt solid;\n",
              "  color: var(--sklearn-color-fitted-level-1);\n",
              "}\n",
              "\n",
              "/* On hover */\n",
              "#sk-container-id-2 a.estimator_doc_link:hover {\n",
              "  /* unfitted */\n",
              "  background-color: var(--sklearn-color-unfitted-level-3);\n",
              "  color: var(--sklearn-color-background);\n",
              "  text-decoration: none;\n",
              "}\n",
              "\n",
              "#sk-container-id-2 a.estimator_doc_link.fitted:hover {\n",
              "  /* fitted */\n",
              "  background-color: var(--sklearn-color-fitted-level-3);\n",
              "}\n",
              "</style><div id=\"sk-container-id-2\" class=\"sk-top-container\"><div class=\"sk-text-repr-fallback\"><pre>LGBMClassifier(random_state=42)</pre><b>In a Jupyter environment, please rerun this cell to show the HTML representation or trust the notebook. <br />On GitHub, the HTML representation is unable to render, please try loading this page with nbviewer.org.</b></div><div class=\"sk-container\" hidden><div class=\"sk-item\"><div class=\"sk-estimator fitted sk-toggleable\"><input class=\"sk-toggleable__control sk-hidden--visually\" id=\"sk-estimator-id-2\" type=\"checkbox\" checked><label for=\"sk-estimator-id-2\" class=\"sk-toggleable__label fitted sk-toggleable__label-arrow\"><div><div>LGBMClassifier</div></div><div><span class=\"sk-estimator-doc-link fitted\">i<span>Fitted</span></span></div></label><div class=\"sk-toggleable__content fitted\"><pre>LGBMClassifier(random_state=42)</pre></div> </div></div></div></div>"
            ]
          },
          "metadata": {},
          "execution_count": 48
        }
      ]
    },
    {
      "cell_type": "code",
      "source": [
        "# ✅ 6. 보조 모델 (HTML + URL 기반)\n",
        "features_all = base_features + html_features\n",
        "X_html = df_html[features_all]\n",
        "y_html = df_html['label']\n",
        "\n",
        "X_html_train, X_html_test, y_html_train, y_html_test = train_test_split(X_html, y_html, test_size=0.2, random_state=42)\n",
        "\n",
        "html_model = LGBMClassifier(random_state=42)\n",
        "html_model.fit(X_html_train, y_html_train)"
      ],
      "metadata": {
        "colab": {
          "base_uri": "https://localhost:8080/",
          "height": 228
        },
        "id": "F8-sAyPGOYG4",
        "outputId": "454dcada-b592-4bec-9121-50ed0e0b317d"
      },
      "execution_count": 49,
      "outputs": [
        {
          "output_type": "stream",
          "name": "stdout",
          "text": [
            "[LightGBM] [Info] Auto-choosing row-wise multi-threading, the overhead of testing was 0.003298 seconds.\n",
            "You can set `force_row_wise=true` to remove the overhead.\n",
            "And if memory is not enough, you can set `force_col_wise=true`.\n",
            "[LightGBM] [Info] Total Bins 1569\n",
            "[LightGBM] [Info] Number of data points in the train set: 8537, number of used features: 45\n",
            "[LightGBM] [Info] Start training from score -0.617919\n",
            "[LightGBM] [Info] Start training from score -1.828140\n",
            "[LightGBM] [Info] Start training from score -1.203231\n"
          ]
        },
        {
          "output_type": "execute_result",
          "data": {
            "text/plain": [
              "LGBMClassifier(random_state=42)"
            ],
            "text/html": [
              "<style>#sk-container-id-3 {\n",
              "  /* Definition of color scheme common for light and dark mode */\n",
              "  --sklearn-color-text: #000;\n",
              "  --sklearn-color-text-muted: #666;\n",
              "  --sklearn-color-line: gray;\n",
              "  /* Definition of color scheme for unfitted estimators */\n",
              "  --sklearn-color-unfitted-level-0: #fff5e6;\n",
              "  --sklearn-color-unfitted-level-1: #f6e4d2;\n",
              "  --sklearn-color-unfitted-level-2: #ffe0b3;\n",
              "  --sklearn-color-unfitted-level-3: chocolate;\n",
              "  /* Definition of color scheme for fitted estimators */\n",
              "  --sklearn-color-fitted-level-0: #f0f8ff;\n",
              "  --sklearn-color-fitted-level-1: #d4ebff;\n",
              "  --sklearn-color-fitted-level-2: #b3dbfd;\n",
              "  --sklearn-color-fitted-level-3: cornflowerblue;\n",
              "\n",
              "  /* Specific color for light theme */\n",
              "  --sklearn-color-text-on-default-background: var(--sg-text-color, var(--theme-code-foreground, var(--jp-content-font-color1, black)));\n",
              "  --sklearn-color-background: var(--sg-background-color, var(--theme-background, var(--jp-layout-color0, white)));\n",
              "  --sklearn-color-border-box: var(--sg-text-color, var(--theme-code-foreground, var(--jp-content-font-color1, black)));\n",
              "  --sklearn-color-icon: #696969;\n",
              "\n",
              "  @media (prefers-color-scheme: dark) {\n",
              "    /* Redefinition of color scheme for dark theme */\n",
              "    --sklearn-color-text-on-default-background: var(--sg-text-color, var(--theme-code-foreground, var(--jp-content-font-color1, white)));\n",
              "    --sklearn-color-background: var(--sg-background-color, var(--theme-background, var(--jp-layout-color0, #111)));\n",
              "    --sklearn-color-border-box: var(--sg-text-color, var(--theme-code-foreground, var(--jp-content-font-color1, white)));\n",
              "    --sklearn-color-icon: #878787;\n",
              "  }\n",
              "}\n",
              "\n",
              "#sk-container-id-3 {\n",
              "  color: var(--sklearn-color-text);\n",
              "}\n",
              "\n",
              "#sk-container-id-3 pre {\n",
              "  padding: 0;\n",
              "}\n",
              "\n",
              "#sk-container-id-3 input.sk-hidden--visually {\n",
              "  border: 0;\n",
              "  clip: rect(1px 1px 1px 1px);\n",
              "  clip: rect(1px, 1px, 1px, 1px);\n",
              "  height: 1px;\n",
              "  margin: -1px;\n",
              "  overflow: hidden;\n",
              "  padding: 0;\n",
              "  position: absolute;\n",
              "  width: 1px;\n",
              "}\n",
              "\n",
              "#sk-container-id-3 div.sk-dashed-wrapped {\n",
              "  border: 1px dashed var(--sklearn-color-line);\n",
              "  margin: 0 0.4em 0.5em 0.4em;\n",
              "  box-sizing: border-box;\n",
              "  padding-bottom: 0.4em;\n",
              "  background-color: var(--sklearn-color-background);\n",
              "}\n",
              "\n",
              "#sk-container-id-3 div.sk-container {\n",
              "  /* jupyter's `normalize.less` sets `[hidden] { display: none; }`\n",
              "     but bootstrap.min.css set `[hidden] { display: none !important; }`\n",
              "     so we also need the `!important` here to be able to override the\n",
              "     default hidden behavior on the sphinx rendered scikit-learn.org.\n",
              "     See: https://github.com/scikit-learn/scikit-learn/issues/21755 */\n",
              "  display: inline-block !important;\n",
              "  position: relative;\n",
              "}\n",
              "\n",
              "#sk-container-id-3 div.sk-text-repr-fallback {\n",
              "  display: none;\n",
              "}\n",
              "\n",
              "div.sk-parallel-item,\n",
              "div.sk-serial,\n",
              "div.sk-item {\n",
              "  /* draw centered vertical line to link estimators */\n",
              "  background-image: linear-gradient(var(--sklearn-color-text-on-default-background), var(--sklearn-color-text-on-default-background));\n",
              "  background-size: 2px 100%;\n",
              "  background-repeat: no-repeat;\n",
              "  background-position: center center;\n",
              "}\n",
              "\n",
              "/* Parallel-specific style estimator block */\n",
              "\n",
              "#sk-container-id-3 div.sk-parallel-item::after {\n",
              "  content: \"\";\n",
              "  width: 100%;\n",
              "  border-bottom: 2px solid var(--sklearn-color-text-on-default-background);\n",
              "  flex-grow: 1;\n",
              "}\n",
              "\n",
              "#sk-container-id-3 div.sk-parallel {\n",
              "  display: flex;\n",
              "  align-items: stretch;\n",
              "  justify-content: center;\n",
              "  background-color: var(--sklearn-color-background);\n",
              "  position: relative;\n",
              "}\n",
              "\n",
              "#sk-container-id-3 div.sk-parallel-item {\n",
              "  display: flex;\n",
              "  flex-direction: column;\n",
              "}\n",
              "\n",
              "#sk-container-id-3 div.sk-parallel-item:first-child::after {\n",
              "  align-self: flex-end;\n",
              "  width: 50%;\n",
              "}\n",
              "\n",
              "#sk-container-id-3 div.sk-parallel-item:last-child::after {\n",
              "  align-self: flex-start;\n",
              "  width: 50%;\n",
              "}\n",
              "\n",
              "#sk-container-id-3 div.sk-parallel-item:only-child::after {\n",
              "  width: 0;\n",
              "}\n",
              "\n",
              "/* Serial-specific style estimator block */\n",
              "\n",
              "#sk-container-id-3 div.sk-serial {\n",
              "  display: flex;\n",
              "  flex-direction: column;\n",
              "  align-items: center;\n",
              "  background-color: var(--sklearn-color-background);\n",
              "  padding-right: 1em;\n",
              "  padding-left: 1em;\n",
              "}\n",
              "\n",
              "\n",
              "/* Toggleable style: style used for estimator/Pipeline/ColumnTransformer box that is\n",
              "clickable and can be expanded/collapsed.\n",
              "- Pipeline and ColumnTransformer use this feature and define the default style\n",
              "- Estimators will overwrite some part of the style using the `sk-estimator` class\n",
              "*/\n",
              "\n",
              "/* Pipeline and ColumnTransformer style (default) */\n",
              "\n",
              "#sk-container-id-3 div.sk-toggleable {\n",
              "  /* Default theme specific background. It is overwritten whether we have a\n",
              "  specific estimator or a Pipeline/ColumnTransformer */\n",
              "  background-color: var(--sklearn-color-background);\n",
              "}\n",
              "\n",
              "/* Toggleable label */\n",
              "#sk-container-id-3 label.sk-toggleable__label {\n",
              "  cursor: pointer;\n",
              "  display: flex;\n",
              "  width: 100%;\n",
              "  margin-bottom: 0;\n",
              "  padding: 0.5em;\n",
              "  box-sizing: border-box;\n",
              "  text-align: center;\n",
              "  align-items: start;\n",
              "  justify-content: space-between;\n",
              "  gap: 0.5em;\n",
              "}\n",
              "\n",
              "#sk-container-id-3 label.sk-toggleable__label .caption {\n",
              "  font-size: 0.6rem;\n",
              "  font-weight: lighter;\n",
              "  color: var(--sklearn-color-text-muted);\n",
              "}\n",
              "\n",
              "#sk-container-id-3 label.sk-toggleable__label-arrow:before {\n",
              "  /* Arrow on the left of the label */\n",
              "  content: \"▸\";\n",
              "  float: left;\n",
              "  margin-right: 0.25em;\n",
              "  color: var(--sklearn-color-icon);\n",
              "}\n",
              "\n",
              "#sk-container-id-3 label.sk-toggleable__label-arrow:hover:before {\n",
              "  color: var(--sklearn-color-text);\n",
              "}\n",
              "\n",
              "/* Toggleable content - dropdown */\n",
              "\n",
              "#sk-container-id-3 div.sk-toggleable__content {\n",
              "  max-height: 0;\n",
              "  max-width: 0;\n",
              "  overflow: hidden;\n",
              "  text-align: left;\n",
              "  /* unfitted */\n",
              "  background-color: var(--sklearn-color-unfitted-level-0);\n",
              "}\n",
              "\n",
              "#sk-container-id-3 div.sk-toggleable__content.fitted {\n",
              "  /* fitted */\n",
              "  background-color: var(--sklearn-color-fitted-level-0);\n",
              "}\n",
              "\n",
              "#sk-container-id-3 div.sk-toggleable__content pre {\n",
              "  margin: 0.2em;\n",
              "  border-radius: 0.25em;\n",
              "  color: var(--sklearn-color-text);\n",
              "  /* unfitted */\n",
              "  background-color: var(--sklearn-color-unfitted-level-0);\n",
              "}\n",
              "\n",
              "#sk-container-id-3 div.sk-toggleable__content.fitted pre {\n",
              "  /* unfitted */\n",
              "  background-color: var(--sklearn-color-fitted-level-0);\n",
              "}\n",
              "\n",
              "#sk-container-id-3 input.sk-toggleable__control:checked~div.sk-toggleable__content {\n",
              "  /* Expand drop-down */\n",
              "  max-height: 200px;\n",
              "  max-width: 100%;\n",
              "  overflow: auto;\n",
              "}\n",
              "\n",
              "#sk-container-id-3 input.sk-toggleable__control:checked~label.sk-toggleable__label-arrow:before {\n",
              "  content: \"▾\";\n",
              "}\n",
              "\n",
              "/* Pipeline/ColumnTransformer-specific style */\n",
              "\n",
              "#sk-container-id-3 div.sk-label input.sk-toggleable__control:checked~label.sk-toggleable__label {\n",
              "  color: var(--sklearn-color-text);\n",
              "  background-color: var(--sklearn-color-unfitted-level-2);\n",
              "}\n",
              "\n",
              "#sk-container-id-3 div.sk-label.fitted input.sk-toggleable__control:checked~label.sk-toggleable__label {\n",
              "  background-color: var(--sklearn-color-fitted-level-2);\n",
              "}\n",
              "\n",
              "/* Estimator-specific style */\n",
              "\n",
              "/* Colorize estimator box */\n",
              "#sk-container-id-3 div.sk-estimator input.sk-toggleable__control:checked~label.sk-toggleable__label {\n",
              "  /* unfitted */\n",
              "  background-color: var(--sklearn-color-unfitted-level-2);\n",
              "}\n",
              "\n",
              "#sk-container-id-3 div.sk-estimator.fitted input.sk-toggleable__control:checked~label.sk-toggleable__label {\n",
              "  /* fitted */\n",
              "  background-color: var(--sklearn-color-fitted-level-2);\n",
              "}\n",
              "\n",
              "#sk-container-id-3 div.sk-label label.sk-toggleable__label,\n",
              "#sk-container-id-3 div.sk-label label {\n",
              "  /* The background is the default theme color */\n",
              "  color: var(--sklearn-color-text-on-default-background);\n",
              "}\n",
              "\n",
              "/* On hover, darken the color of the background */\n",
              "#sk-container-id-3 div.sk-label:hover label.sk-toggleable__label {\n",
              "  color: var(--sklearn-color-text);\n",
              "  background-color: var(--sklearn-color-unfitted-level-2);\n",
              "}\n",
              "\n",
              "/* Label box, darken color on hover, fitted */\n",
              "#sk-container-id-3 div.sk-label.fitted:hover label.sk-toggleable__label.fitted {\n",
              "  color: var(--sklearn-color-text);\n",
              "  background-color: var(--sklearn-color-fitted-level-2);\n",
              "}\n",
              "\n",
              "/* Estimator label */\n",
              "\n",
              "#sk-container-id-3 div.sk-label label {\n",
              "  font-family: monospace;\n",
              "  font-weight: bold;\n",
              "  display: inline-block;\n",
              "  line-height: 1.2em;\n",
              "}\n",
              "\n",
              "#sk-container-id-3 div.sk-label-container {\n",
              "  text-align: center;\n",
              "}\n",
              "\n",
              "/* Estimator-specific */\n",
              "#sk-container-id-3 div.sk-estimator {\n",
              "  font-family: monospace;\n",
              "  border: 1px dotted var(--sklearn-color-border-box);\n",
              "  border-radius: 0.25em;\n",
              "  box-sizing: border-box;\n",
              "  margin-bottom: 0.5em;\n",
              "  /* unfitted */\n",
              "  background-color: var(--sklearn-color-unfitted-level-0);\n",
              "}\n",
              "\n",
              "#sk-container-id-3 div.sk-estimator.fitted {\n",
              "  /* fitted */\n",
              "  background-color: var(--sklearn-color-fitted-level-0);\n",
              "}\n",
              "\n",
              "/* on hover */\n",
              "#sk-container-id-3 div.sk-estimator:hover {\n",
              "  /* unfitted */\n",
              "  background-color: var(--sklearn-color-unfitted-level-2);\n",
              "}\n",
              "\n",
              "#sk-container-id-3 div.sk-estimator.fitted:hover {\n",
              "  /* fitted */\n",
              "  background-color: var(--sklearn-color-fitted-level-2);\n",
              "}\n",
              "\n",
              "/* Specification for estimator info (e.g. \"i\" and \"?\") */\n",
              "\n",
              "/* Common style for \"i\" and \"?\" */\n",
              "\n",
              ".sk-estimator-doc-link,\n",
              "a:link.sk-estimator-doc-link,\n",
              "a:visited.sk-estimator-doc-link {\n",
              "  float: right;\n",
              "  font-size: smaller;\n",
              "  line-height: 1em;\n",
              "  font-family: monospace;\n",
              "  background-color: var(--sklearn-color-background);\n",
              "  border-radius: 1em;\n",
              "  height: 1em;\n",
              "  width: 1em;\n",
              "  text-decoration: none !important;\n",
              "  margin-left: 0.5em;\n",
              "  text-align: center;\n",
              "  /* unfitted */\n",
              "  border: var(--sklearn-color-unfitted-level-1) 1pt solid;\n",
              "  color: var(--sklearn-color-unfitted-level-1);\n",
              "}\n",
              "\n",
              ".sk-estimator-doc-link.fitted,\n",
              "a:link.sk-estimator-doc-link.fitted,\n",
              "a:visited.sk-estimator-doc-link.fitted {\n",
              "  /* fitted */\n",
              "  border: var(--sklearn-color-fitted-level-1) 1pt solid;\n",
              "  color: var(--sklearn-color-fitted-level-1);\n",
              "}\n",
              "\n",
              "/* On hover */\n",
              "div.sk-estimator:hover .sk-estimator-doc-link:hover,\n",
              ".sk-estimator-doc-link:hover,\n",
              "div.sk-label-container:hover .sk-estimator-doc-link:hover,\n",
              ".sk-estimator-doc-link:hover {\n",
              "  /* unfitted */\n",
              "  background-color: var(--sklearn-color-unfitted-level-3);\n",
              "  color: var(--sklearn-color-background);\n",
              "  text-decoration: none;\n",
              "}\n",
              "\n",
              "div.sk-estimator.fitted:hover .sk-estimator-doc-link.fitted:hover,\n",
              ".sk-estimator-doc-link.fitted:hover,\n",
              "div.sk-label-container:hover .sk-estimator-doc-link.fitted:hover,\n",
              ".sk-estimator-doc-link.fitted:hover {\n",
              "  /* fitted */\n",
              "  background-color: var(--sklearn-color-fitted-level-3);\n",
              "  color: var(--sklearn-color-background);\n",
              "  text-decoration: none;\n",
              "}\n",
              "\n",
              "/* Span, style for the box shown on hovering the info icon */\n",
              ".sk-estimator-doc-link span {\n",
              "  display: none;\n",
              "  z-index: 9999;\n",
              "  position: relative;\n",
              "  font-weight: normal;\n",
              "  right: .2ex;\n",
              "  padding: .5ex;\n",
              "  margin: .5ex;\n",
              "  width: min-content;\n",
              "  min-width: 20ex;\n",
              "  max-width: 50ex;\n",
              "  color: var(--sklearn-color-text);\n",
              "  box-shadow: 2pt 2pt 4pt #999;\n",
              "  /* unfitted */\n",
              "  background: var(--sklearn-color-unfitted-level-0);\n",
              "  border: .5pt solid var(--sklearn-color-unfitted-level-3);\n",
              "}\n",
              "\n",
              ".sk-estimator-doc-link.fitted span {\n",
              "  /* fitted */\n",
              "  background: var(--sklearn-color-fitted-level-0);\n",
              "  border: var(--sklearn-color-fitted-level-3);\n",
              "}\n",
              "\n",
              ".sk-estimator-doc-link:hover span {\n",
              "  display: block;\n",
              "}\n",
              "\n",
              "/* \"?\"-specific style due to the `<a>` HTML tag */\n",
              "\n",
              "#sk-container-id-3 a.estimator_doc_link {\n",
              "  float: right;\n",
              "  font-size: 1rem;\n",
              "  line-height: 1em;\n",
              "  font-family: monospace;\n",
              "  background-color: var(--sklearn-color-background);\n",
              "  border-radius: 1rem;\n",
              "  height: 1rem;\n",
              "  width: 1rem;\n",
              "  text-decoration: none;\n",
              "  /* unfitted */\n",
              "  color: var(--sklearn-color-unfitted-level-1);\n",
              "  border: var(--sklearn-color-unfitted-level-1) 1pt solid;\n",
              "}\n",
              "\n",
              "#sk-container-id-3 a.estimator_doc_link.fitted {\n",
              "  /* fitted */\n",
              "  border: var(--sklearn-color-fitted-level-1) 1pt solid;\n",
              "  color: var(--sklearn-color-fitted-level-1);\n",
              "}\n",
              "\n",
              "/* On hover */\n",
              "#sk-container-id-3 a.estimator_doc_link:hover {\n",
              "  /* unfitted */\n",
              "  background-color: var(--sklearn-color-unfitted-level-3);\n",
              "  color: var(--sklearn-color-background);\n",
              "  text-decoration: none;\n",
              "}\n",
              "\n",
              "#sk-container-id-3 a.estimator_doc_link.fitted:hover {\n",
              "  /* fitted */\n",
              "  background-color: var(--sklearn-color-fitted-level-3);\n",
              "}\n",
              "</style><div id=\"sk-container-id-3\" class=\"sk-top-container\"><div class=\"sk-text-repr-fallback\"><pre>LGBMClassifier(random_state=42)</pre><b>In a Jupyter environment, please rerun this cell to show the HTML representation or trust the notebook. <br />On GitHub, the HTML representation is unable to render, please try loading this page with nbviewer.org.</b></div><div class=\"sk-container\" hidden><div class=\"sk-item\"><div class=\"sk-estimator fitted sk-toggleable\"><input class=\"sk-toggleable__control sk-hidden--visually\" id=\"sk-estimator-id-3\" type=\"checkbox\" checked><label for=\"sk-estimator-id-3\" class=\"sk-toggleable__label fitted sk-toggleable__label-arrow\"><div><div>LGBMClassifier</div></div><div><span class=\"sk-estimator-doc-link fitted\">i<span>Fitted</span></span></div></label><div class=\"sk-toggleable__content fitted\"><pre>LGBMClassifier(random_state=42)</pre></div> </div></div></div></div>"
            ]
          },
          "metadata": {},
          "execution_count": 49
        }
      ]
    },
    {
      "cell_type": "code",
      "source": [
        "# ✅ 7. 각각 예측 및 평가\n",
        "print(\"\\n✅ [기본 모델 평가] (HTML 없음)\")\n",
        "y_base_pred = base_model.predict(X_base_test)\n",
        "print(\"Accuracy:\", accuracy_score(y_base_test, y_base_pred))\n",
        "print(classification_report(y_base_test, y_base_pred, digits=4))\n",
        "\n",
        "print(\"\\n✅ [보조 모델 평가] (HTML 있음)\")\n",
        "y_html_pred = html_model.predict(X_html_test)\n",
        "print(\"Accuracy:\", accuracy_score(y_html_test, y_html_pred))\n",
        "print(classification_report(y_html_test, y_html_pred, digits=4))"
      ],
      "metadata": {
        "colab": {
          "base_uri": "https://localhost:8080/"
        },
        "id": "o38X83QpOZaj",
        "outputId": "5e34c1f9-9a01-421b-e68a-b623a0aaee3c"
      },
      "execution_count": 50,
      "outputs": [
        {
          "output_type": "stream",
          "name": "stdout",
          "text": [
            "\n",
            "✅ [기본 모델 평가] (HTML 없음)\n",
            "Accuracy: 0.8272164783840964\n",
            "              precision    recall  f1-score   support\n",
            "\n",
            "         0.0     0.8528    0.8841    0.8682     66959\n",
            "         1.0     0.9355    0.8382    0.8842     20483\n",
            "         2.0     0.7268    0.7205    0.7236     37813\n",
            "\n",
            "    accuracy                         0.8272    125255\n",
            "   macro avg     0.8384    0.8143    0.8253    125255\n",
            "weighted avg     0.8283    0.8272    0.8272    125255\n",
            "\n",
            "\n",
            "✅ [보조 모델 평가] (HTML 있음)\n",
            "Accuracy: 0.8159250585480093\n",
            "              precision    recall  f1-score   support\n",
            "\n",
            "         0.0     0.8447    0.8760    0.8601      1105\n",
            "         1.0     0.9180    0.8083    0.8597       360\n",
            "         2.0     0.7188    0.7209    0.7198       670\n",
            "\n",
            "    accuracy                         0.8159      2135\n",
            "   macro avg     0.8271    0.8017    0.8132      2135\n",
            "weighted avg     0.8175    0.8159    0.8160      2135\n",
            "\n"
          ]
        }
      ]
    },
    {
      "cell_type": "code",
      "source": [
        "from sklearn.metrics import accuracy_score\n",
        "\n",
        "# ✅ 기본 모델 예측 결과\n",
        "y_base_pred = base_model.predict(X_base_test)\n",
        "y_base_true = y_base_test\n",
        "\n",
        "# ✅ 보조 모델 예측 결과\n",
        "y_html_pred = html_model.predict(X_html_test)\n",
        "y_html_true = y_html_test\n",
        "\n",
        "# ✅ 전체 테스트 집합 합치기\n",
        "y_all_true = pd.concat([y_base_true, y_html_true])\n",
        "y_all_pred = np.concatenate([y_base_pred, y_html_pred])\n",
        "\n",
        "# ✅ 전체 정확도\n",
        "overall_accuracy = accuracy_score(y_all_true, y_all_pred)\n",
        "print(f\"\\n🎯 전체 정확도 (B+H 모델 조합): {overall_accuracy:.4f}\")\n"
      ],
      "metadata": {
        "colab": {
          "base_uri": "https://localhost:8080/"
        },
        "id": "0dzB3qquPiez",
        "outputId": "b31b1110-d4fe-4f45-a995-dd5cc5ddefb2"
      },
      "execution_count": 54,
      "outputs": [
        {
          "output_type": "stream",
          "name": "stdout",
          "text": [
            "\n",
            "🎯 전체 정확도 (B+H 모델 조합): 0.8270\n"
          ]
        }
      ]
    },
    {
      "cell_type": "code",
      "source": [
        "import numpy as np\n",
        "\n",
        "# ✅ 혼동 행렬\n",
        "conf_base = confusion_matrix(y_base_test, y_base_pred)\n",
        "conf_html = confusion_matrix(y_html_test, y_html_pred)\n",
        "\n",
        "# ✅ 같은 클래스 순서를 가정\n",
        "combined_text = np.empty_like(conf_base, dtype=object)\n",
        "for i in range(conf_base.shape[0]):\n",
        "    for j in range(conf_base.shape[1]):\n",
        "        combined_text[i, j] = f\"B:{conf_base[i, j]}\\nH:{conf_html[i, j]}\"\n",
        "\n",
        "# ✅ 단일 heatmap 시각화\n",
        "plt.figure(figsize=(6, 5))\n",
        "sns.heatmap((conf_base + conf_html) / 2,  # 색상용 평균값\n",
        "            annot=combined_text, fmt='', cmap='PuBuGn')\n",
        "plt.title('📊 Confusion Matrix Comparison\\n(B: Basic | H: HTML)')\n",
        "plt.xlabel('Predicted')\n",
        "plt.ylabel('Actual')\n",
        "plt.tight_layout()\n",
        "plt.show()\n"
      ],
      "metadata": {
        "colab": {
          "base_uri": "https://localhost:8080/",
          "height": 600
        },
        "id": "urVT3m-mOanV",
        "outputId": "db975418-7b55-4fbb-c08b-61e30daeebbd"
      },
      "execution_count": 52,
      "outputs": [
        {
          "output_type": "stream",
          "name": "stderr",
          "text": [
            "<ipython-input-52-3590029491>:20: UserWarning: Glyph 128202 (\\N{BAR CHART}) missing from font(s) DejaVu Sans.\n",
            "  plt.tight_layout()\n",
            "/usr/local/lib/python3.11/dist-packages/IPython/core/pylabtools.py:151: UserWarning: Glyph 128202 (\\N{BAR CHART}) missing from font(s) DejaVu Sans.\n",
            "  fig.canvas.print_figure(bytes_io, **kw)\n"
          ]
        },
        {
          "output_type": "display_data",
          "data": {
            "text/plain": [
              "<Figure size 600x500 with 2 Axes>"
            ],
            "image/png": "[encoded data removed]"
          },
          "metadata": {}
        }
      ]
    },
    {
      "cell_type": "code",
      "source": [
        "import numpy as np\n",
        "import matplotlib.pyplot as plt\n",
        "import seaborn as sns\n",
        "from sklearn.metrics import confusion_matrix\n",
        "\n",
        "# ✅ B: 기본 모델 혼동 행렬\n",
        "conf_base = confusion_matrix(y_base_test, y_base_pred)\n",
        "# ✅ H: 보조 모델 혼동 행렬\n",
        "conf_html = confusion_matrix(y_html_test, y_html_pred)\n",
        "\n",
        "# ✅ 텍스트로 병기\n",
        "combined_text = np.empty_like(conf_base, dtype=object)\n",
        "for i in range(conf_base.shape[0]):\n",
        "    for j in range(conf_base.shape[1]):\n",
        "        combined_text[i, j] = f\"B: {conf_base[i, j]}\\nH: {conf_html[i, j]}\"\n",
        "\n",
        "# ✅ 평균값으로 색상 intensity 설정\n",
        "avg_matrix = (conf_base + conf_html) / 2\n",
        "\n",
        "# ✅ 시각화\n",
        "plt.figure(figsize=(8, 6))\n",
        "sns.heatmap(avg_matrix, annot=combined_text, fmt='', cmap='YlGnBu')\n",
        "plt.title(\"📊 Combined Confusion Matrix (B = Basic, H = HTML)\")\n",
        "plt.xlabel(\"Predicted\")\n",
        "plt.ylabel(\"Actual\")\n",
        "plt.tight_layout()\n",
        "plt.show()\n"
      ],
      "metadata": {
        "colab": {
          "base_uri": "https://localhost:8080/",
          "height": 701
        },
        "id": "-vreZle7PaP9",
        "outputId": "ae6876a8-33bb-4355-c3c6-4b25efcec00e"
      },
      "execution_count": 53,
      "outputs": [
        {
          "output_type": "stream",
          "name": "stderr",
          "text": [
            "<ipython-input-53-260180697>:26: UserWarning: Glyph 128202 (\\N{BAR CHART}) missing from font(s) DejaVu Sans.\n",
            "  plt.tight_layout()\n",
            "/usr/local/lib/python3.11/dist-packages/IPython/core/pylabtools.py:151: UserWarning: Glyph 128202 (\\N{BAR CHART}) missing from font(s) DejaVu Sans.\n",
            "  fig.canvas.print_figure(bytes_io, **kw)\n"
          ]
        },
        {
          "output_type": "display_data",
          "data": {
            "text/plain": [
              "<Figure size 800x600 with 2 Axes>"
            ],
            "image/png": "[encoded data removed]"
          },
          "metadata": {}
        }
      ]
    },
    {
      "cell_type": "code",
      "source": [
        "# 89% 보조+메인"
      ],
      "metadata": {
        "id": "QFVE900KRmTL"
      },
      "execution_count": null,
      "outputs": []
    },
    {
      "cell_type": "code",
      "source": [
        "from sklearn.metrics import classification_report\n",
        "import numpy as np\n",
        "import matplotlib.pyplot as plt"
      ],
      "metadata": {
        "id": "wgq0bMnXRq_4"
      },
      "execution_count": 55,
      "outputs": []
    },
    {
      "cell_type": "code",
      "source": [
        "# ✅ 메인 모델 (오버샘플링된 HTML 데이터)\n",
        "X_main = df_html_upsampled[features_all]\n",
        "y_main = df_html_upsampled['label']\n",
        "X_train_main, X_test_main, y_train_main, y_test_main = train_test_split(X_main, y_main, test_size=0.2, random_state=42)\n",
        "\n",
        "main_model = LGBMClassifier(random_state=42)\n",
        "main_model.fit(X_train_main, y_train_main)\n",
        "y_pred_main = main_model.predict(X_test_main)\n",
        "\n",
        "report_main = classification_report(y_test_main, y_pred_main, output_dict=True)\n",
        "f1_main = [report_main['0.0']['f1-score'], report_main['1.0']['f1-score'], report_main['2.0']['f1-score']]\n"
      ],
      "metadata": {
        "colab": {
          "base_uri": "https://localhost:8080/"
        },
        "id": "GB3SxNruRsmn",
        "outputId": "997f00f0-c82f-4162-c90d-627ae5b5ed95"
      },
      "execution_count": 56,
      "outputs": [
        {
          "output_type": "stream",
          "name": "stdout",
          "text": [
            "[LightGBM] [Info] Auto-choosing row-wise multi-threading, the overhead of testing was 0.005151 seconds.\n",
            "You can set `force_row_wise=true` to remove the overhead.\n",
            "And if memory is not enough, you can set `force_col_wise=true`.\n",
            "[LightGBM] [Info] Total Bins 1701\n",
            "[LightGBM] [Info] Number of data points in the train set: 16000, number of used features: 45\n",
            "[LightGBM] [Info] Start training from score -0.640673\n",
            "[LightGBM] [Info] Start training from score -1.801053\n",
            "[LightGBM] [Info] Start training from score -1.177858\n"
          ]
        }
      ]
    },
    {
      "cell_type": "code",
      "source": [
        "# ✅ 보조 모델 (오버샘플링 없이 현실 분포 그대로)\n",
        "X_sub = df_html[features_all]\n",
        "y_sub = df_html['label']\n",
        "X_train_sub, X_test_sub, y_train_sub, y_test_sub = train_test_split(X_sub, y_sub, test_size=0.2, random_state=42)\n",
        "\n",
        "sub_model = LGBMClassifier(random_state=42)\n",
        "sub_model.fit(X_train_sub, y_train_sub)\n",
        "y_pred_sub = sub_model.predict(X_test_sub)\n",
        "\n",
        "report_sub = classification_report(y_test_sub, y_pred_sub, output_dict=True)\n",
        "f1_sub = [report_sub['0.0']['f1-score'], report_sub['1.0']['f1-score'], report_sub['2.0']['f1-score']]\n"
      ],
      "metadata": {
        "colab": {
          "base_uri": "https://localhost:8080/"
        },
        "id": "_3OV6OP3Rxqk",
        "outputId": "4b8d6ef1-ea9e-44cd-dabb-675f1a4433e7"
      },
      "execution_count": 57,
      "outputs": [
        {
          "output_type": "stream",
          "name": "stdout",
          "text": [
            "[LightGBM] [Info] Auto-choosing row-wise multi-threading, the overhead of testing was 0.002769 seconds.\n",
            "You can set `force_row_wise=true` to remove the overhead.\n",
            "And if memory is not enough, you can set `force_col_wise=true`.\n",
            "[LightGBM] [Info] Total Bins 1569\n",
            "[LightGBM] [Info] Number of data points in the train set: 8537, number of used features: 45\n",
            "[LightGBM] [Info] Start training from score -0.617919\n",
            "[LightGBM] [Info] Start training from score -1.828140\n",
            "[LightGBM] [Info] Start training from score -1.203231\n"
          ]
        }
      ]
    },
    {
      "cell_type": "code",
      "source": [
        "# ✅ 시각화: 합쳐진 F1-score 바차트\n",
        "labels = ['Benign (0)', 'Malware (1)', 'Phishing (2)']\n",
        "x = np.arange(len(labels))\n",
        "bar_width = 0.35\n",
        "\n",
        "plt.figure(figsize=(8, 5))\n",
        "bar_main = plt.bar(x - bar_width/2, f1_main, width=bar_width, label='🔴 Main Model (Oversampled HTML)', color='#d73027')\n",
        "bar_sub = plt.bar(x + bar_width/2, f1_sub, width=bar_width, label='🔵 Sub Model (Original HTML)', color='#4575b4')\n",
        "\n",
        "plt.xticks(x, labels)\n",
        "plt.ylim(0, 1)\n",
        "plt.xlabel('Class')\n",
        "plt.ylabel('F1 Score')\n",
        "plt.title('📊 F1 Score Comparison (Oversampled vs Original HTML)')\n",
        "plt.legend()"
      ],
      "metadata": {
        "colab": {
          "base_uri": "https://localhost:8080/",
          "height": 747
        },
        "id": "0v10SbEaRzFe",
        "outputId": "05846cd1-119e-494d-8073-1806009aec0b"
      },
      "execution_count": 58,
      "outputs": [
        {
          "output_type": "execute_result",
          "data": {
            "text/plain": [
              "<matplotlib.legend.Legend at 0x7a994154f350>"
            ]
          },
          "metadata": {},
          "execution_count": 58
        },
        {
          "output_type": "stream",
          "name": "stderr",
          "text": [
            "/usr/local/lib/python3.11/dist-packages/IPython/core/events.py:89: UserWarning: Glyph 128202 (\\N{BAR CHART}) missing from font(s) DejaVu Sans.\n",
            "  func(*args, **kwargs)\n",
            "/usr/local/lib/python3.11/dist-packages/IPython/core/events.py:89: UserWarning: Glyph 128308 (\\N{LARGE RED CIRCLE}) missing from font(s) DejaVu Sans.\n",
            "  func(*args, **kwargs)\n",
            "/usr/local/lib/python3.11/dist-packages/IPython/core/events.py:89: UserWarning: Glyph 128309 (\\N{LARGE BLUE CIRCLE}) missing from font(s) DejaVu Sans.\n",
            "  func(*args, **kwargs)\n",
            "/usr/local/lib/python3.11/dist-packages/IPython/core/pylabtools.py:151: UserWarning: Glyph 128202 (\\N{BAR CHART}) missing from font(s) DejaVu Sans.\n",
            "  fig.canvas.print_figure(bytes_io, **kw)\n",
            "/usr/local/lib/python3.11/dist-packages/IPython/core/pylabtools.py:151: UserWarning: Glyph 128308 (\\N{LARGE RED CIRCLE}) missing from font(s) DejaVu Sans.\n",
            "  fig.canvas.print_figure(bytes_io, **kw)\n",
            "/usr/local/lib/python3.11/dist-packages/IPython/core/pylabtools.py:151: UserWarning: Glyph 128309 (\\N{LARGE BLUE CIRCLE}) missing from font(s) DejaVu Sans.\n",
            "  fig.canvas.print_figure(bytes_io, **kw)\n"
          ]
        },
        {
          "output_type": "display_data",
          "data": {
            "text/plain": [
              "<Figure size 800x500 with 1 Axes>"
            ],
            "image/png": "[encoded data removed]"
          },
          "metadata": {}
        }
      ]
    },
    {
      "cell_type": "code",
      "source": [
        "# ✅ 각 막대 위에 점수 출력\n",
        "for bars in [bar_main, bar_sub]:\n",
        "    for bar in bars:\n",
        "        score = bar.get_height()\n",
        "        plt.text(bar.get_x() + bar.get_width() / 2, score + 0.02,\n",
        "                 f'{score:.2f}', ha='center', va='bottom', fontsize=9)\n",
        "\n",
        "plt.tight_layout()\n",
        "plt.show()"
      ],
      "metadata": {
        "colab": {
          "base_uri": "https://localhost:8080/",
          "height": 398
        },
        "id": "kjsJGoxrR0_V",
        "outputId": "8f5d53c3-06e0-4253-dc88-07880ade0021"
      },
      "execution_count": 59,
      "outputs": [
        {
          "output_type": "stream",
          "name": "stderr",
          "text": [
            "<ipython-input-59-419474650>:8: UserWarning: Tight layout not applied. The left and right margins cannot be made large enough to accommodate all Axes decorations.\n",
            "  plt.tight_layout()\n"
          ]
        },
        {
          "output_type": "display_data",
          "data": {
            "text/plain": [
              "<Figure size 640x480 with 1 Axes>"
            ],
            "image/png": "[encoded data removed]"
          },
          "metadata": {}
        }
      ]
    },
    {
      "cell_type": "markdown",
      "source": [
        "A 모델 f1 score\n",
        "\n",
        "하이브리드 정확도 83나온거\n",
        "메인 보조 모델 따로따로 f1 score랑\n",
        "메인 보조 합친 f1 score\n",
        "\n",
        "그리고 A 모델은 정확도가 82일떄\n",
        "\n",
        "최대한 작을때 f1 score"
      ],
      "metadata": {
        "id": "J-DQj7CmnuQQ"
      }
    },
    {
      "cell_type": "code",
      "source": [
        "import pandas as pd\n",
        "import numpy as np\n",
        "import re\n",
        "import matplotlib.pyplot as plt\n",
        "import seaborn as sns\n",
        "from sklearn.model_selection import train_test_split\n",
        "from sklearn.metrics import accuracy_score, f1_score\n",
        "from sklearn.utils import resample\n",
        "from lightgbm import LGBMClassifier"
      ],
      "metadata": {
        "id": "L6Rx47cenwcb"
      },
      "execution_count": 63,
      "outputs": []
    },
    {
      "cell_type": "code",
      "source": [
        "\n",
        "# ✅ 1. 데이터 로딩 및 전처리\n",
        "df = pd.read_csv('real_final.csv').dropna(subset=['url', 'label'])\n",
        "df['url_length'] = df['url'].apply(lambda x: len(str(x)))\n",
        "df['count_dots'] = df['url'].apply(lambda x: str(x).count('.'))\n",
        "df['count_digits'] = df['url'].apply(lambda x: sum(c.isdigit() for c in str(x)))\n",
        "df['count_special'] = df['url'].apply(lambda x: len(re.findall(r'[-_%=]', str(x))))\n",
        "df['url_entropy'] = df['url'].apply(\n",
        "    lambda x: -sum(p * np.log2(p) for p in [count / len(x)\n",
        "        for count in np.bincount([ord(c) for c in str(x)]) if count > 0])\n",
        "    if isinstance(x, str) and len(x) > 0 else 0\n",
        ")\n",
        "df = df.drop('url', axis=1)\n",
        "html_features = [col for col in df.columns if col.startswith(\"html_\") and col != 'html_is_shortened']\n",
        "df[html_features] = df[html_features].fillna(0)\n",
        "df['url_available'] = df['url_available'].fillna(0).astype(int)\n",
        "\n",
        "base_features = [col for col in df.columns if col not in html_features + ['label', 'url_available']]\n",
        "features_all = base_features + html_features\n",
        "y = df['label']"
      ],
      "metadata": {
        "colab": {
          "base_uri": "https://localhost:8080/"
        },
        "id": "wrDXEpZhnxlT",
        "outputId": "1e2062d0-cec7-4070-e809-bdb41e11cd4f"
      },
      "execution_count": 64,
      "outputs": [
        {
          "output_type": "stream",
          "name": "stderr",
          "text": [
            "<ipython-input-64-375419231>:2: DtypeWarning: Columns (47) have mixed types. Specify dtype option on import or set low_memory=False.\n",
            "  df = pd.read_csv('real_final.csv').dropna(subset=['url', 'label'])\n"
          ]
        }
      ]
    },
    {
      "cell_type": "code",
      "source": [
        "# ✅ 2. A 모델 (정확도 82% 근처, F1 최소)\n",
        "acc_min_f1, min_f1 = None, float('inf')\n",
        "for seed in range(50):\n",
        "    X_train, X_test, y_train, y_test = train_test_split(df[base_features], y, test_size=0.2, random_state=seed)\n",
        "    model = LGBMClassifier(random_state=seed)\n",
        "    model.fit(X_train, y_train)\n",
        "    y_pred = model.predict(X_test)\n",
        "    acc = accuracy_score(y_test, y_pred)\n",
        "    f1 = f1_score(y_test, y_pred, average='macro')\n",
        "    if 0.820 <= acc < 0.830 and f1 < min_f1:\n",
        "        acc_min_f1, min_f1 = acc, f1"
      ],
      "metadata": {
        "colab": {
          "base_uri": "https://localhost:8080/"
        },
        "id": "h6raB0upn5Oq",
        "outputId": "54bdf415-c321-4237-9dcc-3294e83665bc"
      },
      "execution_count": 65,
      "outputs": [
        {
          "output_type": "stream",
          "name": "stdout",
          "text": [
            "[LightGBM] [Info] Auto-choosing row-wise multi-threading, the overhead of testing was 0.063298 seconds.\n",
            "You can set `force_row_wise=true` to remove the overhead.\n",
            "And if memory is not enough, you can set `force_col_wise=true`.\n",
            "[LightGBM] [Info] Total Bins 1178\n",
            "[LightGBM] [Info] Number of data points in the train set: 509554, number of used features: 20\n",
            "[LightGBM] [Info] Start training from score -0.626257\n",
            "[LightGBM] [Info] Start training from score -1.803863\n",
            "[LightGBM] [Info] Start training from score -1.201478\n",
            "[LightGBM] [Info] Auto-choosing row-wise multi-threading, the overhead of testing was 0.064085 seconds.\n",
            "You can set `force_row_wise=true` to remove the overhead.\n",
            "And if memory is not enough, you can set `force_col_wise=true`.\n",
            "[LightGBM] [Info] Total Bins 1186\n",
            "[LightGBM] [Info] Number of data points in the train set: 509554, number of used features: 20\n",
            "[LightGBM] [Info] Start training from score -0.626837\n",
            "[LightGBM] [Info] Start training from score -1.802779\n",
            "[LightGBM] [Info] Start training from score -1.201041\n",
            "[LightGBM] [Info] Auto-choosing row-wise multi-threading, the overhead of testing was 0.060644 seconds.\n",
            "You can set `force_row_wise=true` to remove the overhead.\n",
            "And if memory is not enough, you can set `force_col_wise=true`.\n",
            "[LightGBM] [Info] Total Bins 1194\n",
            "[LightGBM] [Info] Number of data points in the train set: 509554, number of used features: 20\n",
            "[LightGBM] [Info] Start training from score -0.626253\n",
            "[LightGBM] [Info] Start training from score -1.802755\n",
            "[LightGBM] [Info] Start training from score -1.202092\n",
            "[LightGBM] [Info] Auto-choosing row-wise multi-threading, the overhead of testing was 0.060323 seconds.\n",
            "You can set `force_row_wise=true` to remove the overhead.\n",
            "And if memory is not enough, you can set `force_col_wise=true`.\n",
            "[LightGBM] [Info] Total Bins 1178\n",
            "[LightGBM] [Info] Number of data points in the train set: 509554, number of used features: 20\n",
            "[LightGBM] [Info] Start training from score -0.625728\n",
            "[LightGBM] [Info] Start training from score -1.805712\n",
            "[LightGBM] [Info] Start training from score -1.201407\n",
            "[LightGBM] [Info] Auto-choosing row-wise multi-threading, the overhead of testing was 0.061277 seconds.\n",
            "You can set `force_row_wise=true` to remove the overhead.\n",
            "And if memory is not enough, you can set `force_col_wise=true`.\n",
            "[LightGBM] [Info] Total Bins 1188\n",
            "[LightGBM] [Info] Number of data points in the train set: 509554, number of used features: 20\n",
            "[LightGBM] [Info] Start training from score -0.626081\n",
            "[LightGBM] [Info] Start training from score -1.803445\n",
            "[LightGBM] [Info] Start training from score -1.202020\n",
            "[LightGBM] [Info] Auto-choosing row-wise multi-threading, the overhead of testing was 0.062424 seconds.\n",
            "You can set `force_row_wise=true` to remove the overhead.\n",
            "And if memory is not enough, you can set `force_col_wise=true`.\n",
            "[LightGBM] [Info] Total Bins 1180\n",
            "[LightGBM] [Info] Number of data points in the train set: 509554, number of used features: 20\n",
            "[LightGBM] [Info] Start training from score -0.626463\n",
            "[LightGBM] [Info] Start training from score -1.802053\n",
            "[LightGBM] [Info] Start training from score -1.202105\n",
            "[LightGBM] [Info] Auto-choosing row-wise multi-threading, the overhead of testing was 0.062775 seconds.\n",
            "You can set `force_row_wise=true` to remove the overhead.\n",
            "And if memory is not enough, you can set `force_col_wise=true`.\n",
            "[LightGBM] [Info] Total Bins 1192\n",
            "[LightGBM] [Info] Number of data points in the train set: 509554, number of used features: 20\n",
            "[LightGBM] [Info] Start training from score -0.626338\n",
            "[LightGBM] [Info] Start training from score -1.804471\n",
            "[LightGBM] [Info] Start training from score -1.201002\n",
            "[LightGBM] [Info] Auto-choosing row-wise multi-threading, the overhead of testing was 0.060134 seconds.\n",
            "You can set `force_row_wise=true` to remove the overhead.\n",
            "And if memory is not enough, you can set `force_col_wise=true`.\n",
            "[LightGBM] [Info] Total Bins 1194\n",
            "[LightGBM] [Info] Number of data points in the train set: 509554, number of used features: 20\n",
            "[LightGBM] [Info] Start training from score -0.626771\n",
            "[LightGBM] [Info] Start training from score -1.803064\n",
            "[LightGBM] [Info] Start training from score -1.201002\n",
            "[LightGBM] [Info] Auto-choosing row-wise multi-threading, the overhead of testing was 0.061780 seconds.\n",
            "You can set `force_row_wise=true` to remove the overhead.\n",
            "And if memory is not enough, you can set `force_col_wise=true`.\n",
            "[LightGBM] [Info] Total Bins 1186\n",
            "[LightGBM] [Info] Number of data points in the train set: 509554, number of used features: 20\n",
            "[LightGBM] [Info] Start training from score -0.627576\n",
            "[LightGBM] [Info] Start training from score -1.799747\n",
            "[LightGBM] [Info] Start training from score -1.201393\n",
            "[LightGBM] [Info] Auto-choosing row-wise multi-threading, the overhead of testing was 0.061608 seconds.\n",
            "You can set `force_row_wise=true` to remove the overhead.\n",
            "And if memory is not enough, you can set `force_col_wise=true`.\n",
            "[LightGBM] [Info] Total Bins 1189\n",
            "[LightGBM] [Info] Number of data points in the train set: 509554, number of used features: 20\n",
            "[LightGBM] [Info] Start training from score -0.626172\n",
            "[LightGBM] [Info] Start training from score -1.803529\n",
            "[LightGBM] [Info] Start training from score -1.201811\n",
            "[LightGBM] [Info] Auto-choosing row-wise multi-threading, the overhead of testing was 0.060280 seconds.\n",
            "You can set `force_row_wise=true` to remove the overhead.\n",
            "And if memory is not enough, you can set `force_col_wise=true`.\n",
            "[LightGBM] [Info] Total Bins 1191\n",
            "[LightGBM] [Info] Number of data points in the train set: 509554, number of used features: 20\n",
            "[LightGBM] [Info] Start training from score -0.626261\n",
            "[LightGBM] [Info] Start training from score -1.803922\n",
            "[LightGBM] [Info] Start training from score -1.201439\n",
            "[LightGBM] [Info] Auto-choosing row-wise multi-threading, the overhead of testing was 0.060006 seconds.\n",
            "You can set `force_row_wise=true` to remove the overhead.\n",
            "And if memory is not enough, you can set `force_col_wise=true`.\n",
            "[LightGBM] [Info] Total Bins 1186\n",
            "[LightGBM] [Info] Number of data points in the train set: 509554, number of used features: 20\n",
            "[LightGBM] [Info] Start training from score -0.626239\n",
            "[LightGBM] [Info] Start training from score -1.801815\n",
            "[LightGBM] [Info] Start training from score -1.202634\n",
            "[LightGBM] [Info] Auto-choosing row-wise multi-threading, the overhead of testing was 0.060313 seconds.\n",
            "You can set `force_row_wise=true` to remove the overhead.\n",
            "And if memory is not enough, you can set `force_col_wise=true`.\n",
            "[LightGBM] [Info] Total Bins 1181\n",
            "[LightGBM] [Info] Number of data points in the train set: 509554, number of used features: 20\n",
            "[LightGBM] [Info] Start training from score -0.627113\n",
            "[LightGBM] [Info] Start training from score -1.803124\n",
            "[LightGBM] [Info] Start training from score -1.200363\n",
            "[LightGBM] [Info] Auto-choosing row-wise multi-threading, the overhead of testing was 0.060270 seconds.\n",
            "You can set `force_row_wise=true` to remove the overhead.\n",
            "And if memory is not enough, you can set `force_col_wise=true`.\n",
            "[LightGBM] [Info] Total Bins 1185\n",
            "[LightGBM] [Info] Number of data points in the train set: 509554, number of used features: 20\n",
            "[LightGBM] [Info] Start training from score -0.625945\n",
            "[LightGBM] [Info] Start training from score -1.805497\n",
            "[LightGBM] [Info] Start training from score -1.201139\n",
            "[LightGBM] [Info] Auto-choosing row-wise multi-threading, the overhead of testing was 0.060992 seconds.\n",
            "You can set `force_row_wise=true` to remove the overhead.\n",
            "And if memory is not enough, you can set `force_col_wise=true`.\n",
            "[LightGBM] [Info] Total Bins 1176\n",
            "[LightGBM] [Info] Number of data points in the train set: 509554, number of used features: 20\n",
            "[LightGBM] [Info] Start training from score -0.626132\n",
            "[LightGBM] [Info] Start training from score -1.803612\n",
            "[LightGBM] [Info] Start training from score -1.201837\n",
            "[LightGBM] [Info] Auto-choosing row-wise multi-threading, the overhead of testing was 0.087636 seconds.\n",
            "You can set `force_row_wise=true` to remove the overhead.\n",
            "And if memory is not enough, you can set `force_col_wise=true`.\n",
            "[LightGBM] [Info] Total Bins 1185\n",
            "[LightGBM] [Info] Number of data points in the train set: 509554, number of used features: 20\n",
            "[LightGBM] [Info] Start training from score -0.626290\n",
            "[LightGBM] [Info] Start training from score -1.803314\n",
            "[LightGBM] [Info] Start training from score -1.201720\n",
            "[LightGBM] [Info] Auto-choosing row-wise multi-threading, the overhead of testing was 0.060417 seconds.\n",
            "You can set `force_row_wise=true` to remove the overhead.\n",
            "And if memory is not enough, you can set `force_col_wise=true`.\n",
            "[LightGBM] [Info] Total Bins 1187\n",
            "[LightGBM] [Info] Number of data points in the train set: 509554, number of used features: 20\n",
            "[LightGBM] [Info] Start training from score -0.626066\n",
            "[LightGBM] [Info] Start training from score -1.803636\n",
            "[LightGBM] [Info] Start training from score -1.201942\n",
            "[LightGBM] [Info] Auto-choosing row-wise multi-threading, the overhead of testing was 0.061565 seconds.\n",
            "You can set `force_row_wise=true` to remove the overhead.\n",
            "And if memory is not enough, you can set `force_col_wise=true`.\n",
            "[LightGBM] [Info] Total Bins 1192\n",
            "[LightGBM] [Info] Number of data points in the train set: 509554, number of used features: 20\n",
            "[LightGBM] [Info] Start training from score -0.627712\n",
            "[LightGBM] [Info] Start training from score -1.803088\n",
            "[LightGBM] [Info] Start training from score -1.199321\n",
            "[LightGBM] [Info] Auto-choosing row-wise multi-threading, the overhead of testing was 0.060976 seconds.\n",
            "You can set `force_row_wise=true` to remove the overhead.\n",
            "And if memory is not enough, you can set `force_col_wise=true`.\n",
            "[LightGBM] [Info] Total Bins 1186\n",
            "[LightGBM] [Info] Number of data points in the train set: 509554, number of used features: 20\n",
            "[LightGBM] [Info] Start training from score -0.625248\n",
            "[LightGBM] [Info] Start training from score -1.806536\n",
            "[LightGBM] [Info] Start training from score -1.201811\n",
            "[LightGBM] [Info] Auto-choosing row-wise multi-threading, the overhead of testing was 0.085944 seconds.\n",
            "You can set `force_row_wise=true` to remove the overhead.\n",
            "And if memory is not enough, you can set `force_col_wise=true`.\n",
            "[LightGBM] [Info] Total Bins 1180\n",
            "[LightGBM] [Info] Number of data points in the train set: 509554, number of used features: 20\n",
            "[LightGBM] [Info] Start training from score -0.625611\n",
            "[LightGBM] [Info] Start training from score -1.802160\n",
            "[LightGBM] [Info] Start training from score -1.203562\n",
            "[LightGBM] [Info] Auto-choosing row-wise multi-threading, the overhead of testing was 0.061994 seconds.\n",
            "You can set `force_row_wise=true` to remove the overhead.\n",
            "And if memory is not enough, you can set `force_col_wise=true`.\n",
            "[LightGBM] [Info] Total Bins 1185\n",
            "[LightGBM] [Info] Number of data points in the train set: 509554, number of used features: 20\n",
            "[LightGBM] [Info] Start training from score -0.625982\n",
            "[LightGBM] [Info] Start training from score -1.802255\n",
            "[LightGBM] [Info] Start training from score -1.202850\n",
            "[LightGBM] [Info] Auto-choosing row-wise multi-threading, the overhead of testing was 0.060354 seconds.\n",
            "You can set `force_row_wise=true` to remove the overhead.\n",
            "And if memory is not enough, you can set `force_col_wise=true`.\n",
            "[LightGBM] [Info] Total Bins 1181\n",
            "[LightGBM] [Info] Number of data points in the train set: 509554, number of used features: 20\n",
            "[LightGBM] [Info] Start training from score -0.626187\n",
            "[LightGBM] [Info] Start training from score -1.801684\n",
            "[LightGBM] [Info] Start training from score -1.202797\n",
            "[LightGBM] [Info] Auto-choosing row-wise multi-threading, the overhead of testing was 0.060126 seconds.\n",
            "You can set `force_row_wise=true` to remove the overhead.\n",
            "And if memory is not enough, you can set `force_col_wise=true`.\n",
            "[LightGBM] [Info] Total Bins 1202\n",
            "[LightGBM] [Info] Number of data points in the train set: 509554, number of used features: 20\n",
            "[LightGBM] [Info] Start training from score -0.627179\n",
            "[LightGBM] [Info] Start training from score -1.802136\n",
            "[LightGBM] [Info] Start training from score -1.200787\n",
            "[LightGBM] [Info] Auto-choosing row-wise multi-threading, the overhead of testing was 0.060767 seconds.\n",
            "You can set `force_row_wise=true` to remove the overhead.\n",
            "And if memory is not enough, you can set `force_col_wise=true`.\n",
            "[LightGBM] [Info] Total Bins 1199\n",
            "[LightGBM] [Info] Number of data points in the train set: 509554, number of used features: 20\n",
            "[LightGBM] [Info] Start training from score -0.626161\n",
            "[LightGBM] [Info] Start training from score -1.803279\n",
            "[LightGBM] [Info] Start training from score -1.201968\n",
            "[LightGBM] [Info] Auto-choosing row-wise multi-threading, the overhead of testing was 0.061351 seconds.\n",
            "You can set `force_row_wise=true` to remove the overhead.\n",
            "And if memory is not enough, you can set `force_col_wise=true`.\n",
            "[LightGBM] [Info] Total Bins 1190\n",
            "[LightGBM] [Info] Number of data points in the train set: 509554, number of used features: 20\n",
            "[LightGBM] [Info] Start training from score -0.626859\n",
            "[LightGBM] [Info] Start training from score -1.801030\n",
            "[LightGBM] [Info] Start training from score -1.201961\n",
            "[LightGBM] [Info] Auto-choosing row-wise multi-threading, the overhead of testing was 0.063528 seconds.\n",
            "You can set `force_row_wise=true` to remove the overhead.\n",
            "And if memory is not enough, you can set `force_col_wise=true`.\n",
            "[LightGBM] [Info] Total Bins 1188\n",
            "[LightGBM] [Info] Number of data points in the train set: 509554, number of used features: 20\n",
            "[LightGBM] [Info] Start training from score -0.625527\n",
            "[LightGBM] [Info] Start training from score -1.805425\n",
            "[LightGBM] [Info] Start training from score -1.201922\n",
            "[LightGBM] [Info] Auto-choosing row-wise multi-threading, the overhead of testing was 0.060599 seconds.\n",
            "You can set `force_row_wise=true` to remove the overhead.\n",
            "And if memory is not enough, you can set `force_col_wise=true`.\n",
            "[LightGBM] [Info] Total Bins 1179\n",
            "[LightGBM] [Info] Number of data points in the train set: 509554, number of used features: 20\n",
            "[LightGBM] [Info] Start training from score -0.626206\n",
            "[LightGBM] [Info] Start training from score -1.803207\n",
            "[LightGBM] [Info] Start training from score -1.201929\n",
            "[LightGBM] [Info] Auto-choosing row-wise multi-threading, the overhead of testing was 0.065644 seconds.\n",
            "You can set `force_row_wise=true` to remove the overhead.\n",
            "And if memory is not enough, you can set `force_col_wise=true`.\n",
            "[LightGBM] [Info] Total Bins 1188\n",
            "[LightGBM] [Info] Number of data points in the train set: 509554, number of used features: 20\n",
            "[LightGBM] [Info] Start training from score -0.626371\n",
            "[LightGBM] [Info] Start training from score -1.802207\n",
            "[LightGBM] [Info] Start training from score -1.202183\n",
            "[LightGBM] [Info] Auto-choosing row-wise multi-threading, the overhead of testing was 0.059995 seconds.\n",
            "You can set `force_row_wise=true` to remove the overhead.\n",
            "And if memory is not enough, you can set `force_col_wise=true`.\n",
            "[LightGBM] [Info] Total Bins 1193\n",
            "[LightGBM] [Info] Number of data points in the train set: 509554, number of used features: 20\n",
            "[LightGBM] [Info] Start training from score -0.626628\n",
            "[LightGBM] [Info] Start training from score -1.802767\n",
            "[LightGBM] [Info] Start training from score -1.201420\n",
            "[LightGBM] [Info] Auto-choosing row-wise multi-threading, the overhead of testing was 0.060459 seconds.\n",
            "You can set `force_row_wise=true` to remove the overhead.\n",
            "And if memory is not enough, you can set `force_col_wise=true`.\n",
            "[LightGBM] [Info] Total Bins 1180\n",
            "[LightGBM] [Info] Number of data points in the train set: 509554, number of used features: 20\n",
            "[LightGBM] [Info] Start training from score -0.626694\n",
            "[LightGBM] [Info] Start training from score -1.804709\n",
            "[LightGBM] [Info] Start training from score -1.200239\n",
            "[LightGBM] [Info] Auto-choosing row-wise multi-threading, the overhead of testing was 0.060078 seconds.\n",
            "You can set `force_row_wise=true` to remove the overhead.\n",
            "And if memory is not enough, you can set `force_col_wise=true`.\n",
            "[LightGBM] [Info] Total Bins 1192\n",
            "[LightGBM] [Info] Number of data points in the train set: 509554, number of used features: 20\n",
            "[LightGBM] [Info] Start training from score -0.625916\n",
            "[LightGBM] [Info] Start training from score -1.805879\n",
            "[LightGBM] [Info] Start training from score -1.200983\n",
            "[LightGBM] [Info] Auto-choosing row-wise multi-threading, the overhead of testing was 0.060265 seconds.\n",
            "You can set `force_row_wise=true` to remove the overhead.\n",
            "And if memory is not enough, you can set `force_col_wise=true`.\n",
            "[LightGBM] [Info] Total Bins 1184\n",
            "[LightGBM] [Info] Number of data points in the train set: 509554, number of used features: 20\n",
            "[LightGBM] [Info] Start training from score -0.626529\n",
            "[LightGBM] [Info] Start training from score -1.802112\n",
            "[LightGBM] [Info] Start training from score -1.201955\n",
            "[LightGBM] [Info] Auto-choosing row-wise multi-threading, the overhead of testing was 0.060368 seconds.\n",
            "You can set `force_row_wise=true` to remove the overhead.\n",
            "And if memory is not enough, you can set `force_col_wise=true`.\n",
            "[LightGBM] [Info] Total Bins 1186\n",
            "[LightGBM] [Info] Number of data points in the train set: 509554, number of used features: 20\n",
            "[LightGBM] [Info] Start training from score -0.627337\n",
            "[LightGBM] [Info] Start training from score -1.803183\n",
            "[LightGBM] [Info] Start training from score -1.199933\n",
            "[LightGBM] [Info] Auto-choosing row-wise multi-threading, the overhead of testing was 0.060334 seconds.\n",
            "You can set `force_row_wise=true` to remove the overhead.\n",
            "And if memory is not enough, you can set `force_col_wise=true`.\n",
            "[LightGBM] [Info] Total Bins 1191\n",
            "[LightGBM] [Info] Number of data points in the train set: 509554, number of used features: 20\n",
            "[LightGBM] [Info] Start training from score -0.626323\n",
            "[LightGBM] [Info] Start training from score -1.803755\n",
            "[LightGBM] [Info] Start training from score -1.201420\n",
            "[LightGBM] [Info] Auto-choosing row-wise multi-threading, the overhead of testing was 0.061202 seconds.\n",
            "You can set `force_row_wise=true` to remove the overhead.\n",
            "And if memory is not enough, you can set `force_col_wise=true`.\n",
            "[LightGBM] [Info] Total Bins 1184\n",
            "[LightGBM] [Info] Number of data points in the train set: 509554, number of used features: 20\n",
            "[LightGBM] [Info] Start training from score -0.625710\n",
            "[LightGBM] [Info] Start training from score -1.802124\n",
            "[LightGBM] [Info] Start training from score -1.203405\n",
            "[LightGBM] [Info] Auto-choosing row-wise multi-threading, the overhead of testing was 0.061276 seconds.\n",
            "You can set `force_row_wise=true` to remove the overhead.\n",
            "And if memory is not enough, you can set `force_col_wise=true`.\n",
            "[LightGBM] [Info] Total Bins 1191\n",
            "[LightGBM] [Info] Number of data points in the train set: 509554, number of used features: 20\n",
            "[LightGBM] [Info] Start training from score -0.625971\n",
            "[LightGBM] [Info] Start training from score -1.804530\n",
            "[LightGBM] [Info] Start training from score -1.201622\n",
            "[LightGBM] [Info] Auto-choosing row-wise multi-threading, the overhead of testing was 0.060091 seconds.\n",
            "You can set `force_row_wise=true` to remove the overhead.\n",
            "And if memory is not enough, you can set `force_col_wise=true`.\n",
            "[LightGBM] [Info] Total Bins 1190\n",
            "[LightGBM] [Info] Number of data points in the train set: 509554, number of used features: 20\n",
            "[LightGBM] [Info] Start training from score -0.626312\n",
            "[LightGBM] [Info] Start training from score -1.802600\n",
            "[LightGBM] [Info] Start training from score -1.202072\n",
            "[LightGBM] [Info] Auto-choosing row-wise multi-threading, the overhead of testing was 0.060040 seconds.\n",
            "You can set `force_row_wise=true` to remove the overhead.\n",
            "And if memory is not enough, you can set `force_col_wise=true`.\n",
            "[LightGBM] [Info] Total Bins 1189\n",
            "[LightGBM] [Info] Number of data points in the train set: 509554, number of used features: 20\n",
            "[LightGBM] [Info] Start training from score -0.626650\n",
            "[LightGBM] [Info] Start training from score -1.803148\n",
            "[LightGBM] [Info] Start training from score -1.201172\n",
            "[LightGBM] [Info] Auto-choosing row-wise multi-threading, the overhead of testing was 0.061044 seconds.\n",
            "You can set `force_row_wise=true` to remove the overhead.\n",
            "And if memory is not enough, you can set `force_col_wise=true`.\n",
            "[LightGBM] [Info] Total Bins 1189\n",
            "[LightGBM] [Info] Number of data points in the train set: 509554, number of used features: 20\n",
            "[LightGBM] [Info] Start training from score -0.626279\n",
            "[LightGBM] [Info] Start training from score -1.805103\n",
            "[LightGBM] [Info] Start training from score -1.200761\n",
            "[LightGBM] [Info] Auto-choosing row-wise multi-threading, the overhead of testing was 0.063647 seconds.\n",
            "You can set `force_row_wise=true` to remove the overhead.\n",
            "And if memory is not enough, you can set `force_col_wise=true`.\n",
            "[LightGBM] [Info] Total Bins 1189\n",
            "[LightGBM] [Info] Number of data points in the train set: 509554, number of used features: 20\n",
            "[LightGBM] [Info] Start training from score -0.625805\n",
            "[LightGBM] [Info] Start training from score -1.805186\n",
            "[LightGBM] [Info] Start training from score -1.201557\n",
            "[LightGBM] [Info] Auto-choosing row-wise multi-threading, the overhead of testing was 0.087823 seconds.\n",
            "You can set `force_row_wise=true` to remove the overhead.\n",
            "And if memory is not enough, you can set `force_col_wise=true`.\n",
            "[LightGBM] [Info] Total Bins 1192\n",
            "[LightGBM] [Info] Number of data points in the train set: 509554, number of used features: 20\n",
            "[LightGBM] [Info] Start training from score -0.626022\n",
            "[LightGBM] [Info] Start training from score -1.802505\n",
            "[LightGBM] [Info] Start training from score -1.202641\n",
            "[LightGBM] [Info] Auto-choosing row-wise multi-threading, the overhead of testing was 0.062459 seconds.\n",
            "You can set `force_row_wise=true` to remove the overhead.\n",
            "And if memory is not enough, you can set `force_col_wise=true`.\n",
            "[LightGBM] [Info] Total Bins 1179\n",
            "[LightGBM] [Info] Number of data points in the train set: 509554, number of used features: 20\n",
            "[LightGBM] [Info] Start training from score -0.626294\n",
            "[LightGBM] [Info] Start training from score -1.803374\n",
            "[LightGBM] [Info] Start training from score -1.201681\n",
            "[LightGBM] [Info] Auto-choosing row-wise multi-threading, the overhead of testing was 0.060940 seconds.\n",
            "You can set `force_row_wise=true` to remove the overhead.\n",
            "And if memory is not enough, you can set `force_col_wise=true`.\n",
            "[LightGBM] [Info] Total Bins 1183\n",
            "[LightGBM] [Info] Number of data points in the train set: 509554, number of used features: 20\n",
            "[LightGBM] [Info] Start training from score -0.626529\n",
            "[LightGBM] [Info] Start training from score -1.802874\n",
            "[LightGBM] [Info] Start training from score -1.201537\n",
            "[LightGBM] [Info] Auto-choosing row-wise multi-threading, the overhead of testing was 0.061359 seconds.\n",
            "You can set `force_row_wise=true` to remove the overhead.\n",
            "And if memory is not enough, you can set `force_col_wise=true`.\n",
            "[LightGBM] [Info] Total Bins 1185\n",
            "[LightGBM] [Info] Number of data points in the train set: 509554, number of used features: 20\n",
            "[LightGBM] [Info] Start training from score -0.626327\n",
            "[LightGBM] [Info] Start training from score -1.803124\n",
            "[LightGBM] [Info] Start training from score -1.201759\n",
            "[LightGBM] [Info] Auto-choosing row-wise multi-threading, the overhead of testing was 0.085324 seconds.\n",
            "You can set `force_row_wise=true` to remove the overhead.\n",
            "And if memory is not enough, you can set `force_col_wise=true`.\n",
            "[LightGBM] [Info] Total Bins 1169\n",
            "[LightGBM] [Info] Number of data points in the train set: 509554, number of used features: 20\n",
            "[LightGBM] [Info] Start training from score -0.625343\n",
            "[LightGBM] [Info] Start training from score -1.803112\n",
            "[LightGBM] [Info] Start training from score -1.203516\n",
            "[LightGBM] [Info] Auto-choosing row-wise multi-threading, the overhead of testing was 0.061719 seconds.\n",
            "You can set `force_row_wise=true` to remove the overhead.\n",
            "And if memory is not enough, you can set `force_col_wise=true`.\n",
            "[LightGBM] [Info] Total Bins 1190\n",
            "[LightGBM] [Info] Number of data points in the train set: 509554, number of used features: 20\n",
            "[LightGBM] [Info] Start training from score -0.626679\n",
            "[LightGBM] [Info] Start training from score -1.802564\n",
            "[LightGBM] [Info] Start training from score -1.201439\n",
            "[LightGBM] [Info] Auto-choosing row-wise multi-threading, the overhead of testing was 0.060594 seconds.\n",
            "You can set `force_row_wise=true` to remove the overhead.\n",
            "And if memory is not enough, you can set `force_col_wise=true`.\n",
            "[LightGBM] [Info] Total Bins 1184\n",
            "[LightGBM] [Info] Number of data points in the train set: 509554, number of used features: 20\n",
            "[LightGBM] [Info] Start training from score -0.626999\n",
            "[LightGBM] [Info] Start training from score -1.800911\n",
            "[LightGBM] [Info] Start training from score -1.201779\n",
            "[LightGBM] [Info] Auto-choosing row-wise multi-threading, the overhead of testing was 0.061389 seconds.\n",
            "You can set `force_row_wise=true` to remove the overhead.\n",
            "And if memory is not enough, you can set `force_col_wise=true`.\n",
            "[LightGBM] [Info] Total Bins 1179\n",
            "[LightGBM] [Info] Number of data points in the train set: 509554, number of used features: 20\n",
            "[LightGBM] [Info] Start training from score -0.626661\n",
            "[LightGBM] [Info] Start training from score -1.804852\n",
            "[LightGBM] [Info] Start training from score -1.200220\n",
            "[LightGBM] [Info] Auto-choosing row-wise multi-threading, the overhead of testing was 0.060157 seconds.\n",
            "You can set `force_row_wise=true` to remove the overhead.\n",
            "And if memory is not enough, you can set `force_col_wise=true`.\n",
            "[LightGBM] [Info] Total Bins 1192\n",
            "[LightGBM] [Info] Number of data points in the train set: 509554, number of used features: 20\n",
            "[LightGBM] [Info] Start training from score -0.626220\n",
            "[LightGBM] [Info] Start training from score -1.804984\n",
            "[LightGBM] [Info] Start training from score -1.200930\n",
            "[LightGBM] [Info] Auto-choosing row-wise multi-threading, the overhead of testing was 0.061750 seconds.\n",
            "You can set `force_row_wise=true` to remove the overhead.\n",
            "And if memory is not enough, you can set `force_col_wise=true`.\n",
            "[LightGBM] [Info] Total Bins 1188\n",
            "[LightGBM] [Info] Number of data points in the train set: 509554, number of used features: 20\n",
            "[LightGBM] [Info] Start training from score -0.627304\n",
            "[LightGBM] [Info] Start training from score -1.802624\n",
            "[LightGBM] [Info] Start training from score -1.200298\n"
          ]
        }
      ]
    },
    {
      "cell_type": "code",
      "source": [
        "# ✅ 3. 메인 모델 (url_available == 0)\n",
        "df_main = df[df['url_available'] == 0]\n",
        "X_main = df_main[base_features]\n",
        "y_main = df_main['label']\n",
        "X_main_train, X_main_test, y_main_train, y_main_test = train_test_split(X_main, y_main, test_size=0.2, random_state=42)\n",
        "model_main = LGBMClassifier(random_state=42)\n",
        "model_main.fit(X_main_train, y_main_train)\n",
        "f1_main = f1_score(y_main_test, model_main.predict(X_main_test), average='macro')\n"
      ],
      "metadata": {
        "colab": {
          "base_uri": "https://localhost:8080/"
        },
        "id": "cWp1kT_xn7GF",
        "outputId": "144749c8-ea61-47ef-cf6f-4c091f3e6f3c"
      },
      "execution_count": 66,
      "outputs": [
        {
          "output_type": "stream",
          "name": "stdout",
          "text": [
            "[LightGBM] [Info] Auto-choosing row-wise multi-threading, the overhead of testing was 0.059841 seconds.\n",
            "You can set `force_row_wise=true` to remove the overhead.\n",
            "And if memory is not enough, you can set `force_col_wise=true`.\n",
            "[LightGBM] [Info] Total Bins 1183\n",
            "[LightGBM] [Info] Number of data points in the train set: 501016, number of used features: 20\n",
            "[LightGBM] [Info] Start training from score -0.626398\n",
            "[LightGBM] [Info] Start training from score -1.800778\n",
            "[LightGBM] [Info] Start training from score -1.202921\n"
          ]
        }
      ]
    },
    {
      "cell_type": "code",
      "source": [
        "# ✅ 4. 보조 모델 (url_available == 1 + 오버샘플링)\n",
        "df_sub = df[df['url_available'] == 1]\n",
        "df_sub_up = resample(df_sub, replace=True, n_samples=20000, random_state=42)\n",
        "X_sub = df_sub_up[features_all]\n",
        "y_sub = df_sub_up['label']\n",
        "X_sub_train, X_sub_test, y_sub_train, y_sub_test = train_test_split(X_sub, y_sub, test_size=0.2, random_state=42)\n",
        "model_sub = LGBMClassifier(random_state=42)\n",
        "model_sub.fit(X_sub_train, y_sub_train)\n",
        "f1_sub = f1_score(y_sub_test, model_sub.predict(X_sub_test), average='macro')"
      ],
      "metadata": {
        "colab": {
          "base_uri": "https://localhost:8080/"
        },
        "id": "fOz7u0Qpn8MM",
        "outputId": "347d31ea-1219-4522-a9a9-fadb1f32fea0"
      },
      "execution_count": 67,
      "outputs": [
        {
          "output_type": "stream",
          "name": "stdout",
          "text": [
            "[LightGBM] [Info] Auto-choosing row-wise multi-threading, the overhead of testing was 0.004991 seconds.\n",
            "You can set `force_row_wise=true` to remove the overhead.\n",
            "And if memory is not enough, you can set `force_col_wise=true`.\n",
            "[LightGBM] [Info] Total Bins 1701\n",
            "[LightGBM] [Info] Number of data points in the train set: 16000, number of used features: 45\n",
            "[LightGBM] [Info] Start training from score -0.640673\n",
            "[LightGBM] [Info] Start training from score -1.801053\n",
            "[LightGBM] [Info] Start training from score -1.177858\n"
          ]
        }
      ]
    },
    {
      "cell_type": "code",
      "source": [
        "# ✅ 5. 하이브리드 모델 (url_available 조건에 따라 예측 분기)\n",
        "X_all = df[features_all + ['url_available']]\n",
        "y_all = df['label']\n",
        "X_train_all, X_test_all, y_train_all, y_test_all = train_test_split(X_all, y_all, test_size=0.2, random_state=42)\n",
        "mask_html = X_test_all['url_available'] == 1\n",
        "main_preds = model_main.predict(X_test_all[~mask_html][base_features])\n",
        "sub_preds = model_sub.predict(X_test_all[mask_html][features_all])\n",
        "\n",
        "y_combined = pd.concat([y_test_all[~mask_html], y_test_all[mask_html]])\n",
        "y_pred_combined = np.concatenate([main_preds, sub_preds])\n",
        "acc_hybrid = accuracy_score(y_combined, y_pred_combined)\n",
        "f1_hybrid = f1_score(y_combined, y_pred_combined, average='macro')"
      ],
      "metadata": {
        "id": "8UrJiSzSn9UJ"
      },
      "execution_count": 69,
      "outputs": []
    },
    {
      "cell_type": "code",
      "source": [
        "# ✅ 6. 결과 출력\n",
        "print(f\"✅ A 모델 (정확도 82대) 최소 F1-score: {min_f1:.4f} (Acc: {acc_min_f1:.4f})\")\n",
        "print(f\"✅ 메인 모델 F1: {f1_main:.4f}\")\n",
        "print(f\"✅ 보조 모델 F1: {f1_sub:.4f}\")\n",
        "print(f\"✅ 하이브리드 모델 정확도: {acc_hybrid:.4f} / F1: {f1_hybrid:.4f}\")"
      ],
      "metadata": {
        "colab": {
          "base_uri": "https://localhost:8080/"
        },
        "id": "zKJM1iinoMti",
        "outputId": "7e2d8646-4d9b-4e07-fc24-d93798ba5ef9"
      },
      "execution_count": 70,
      "outputs": [
        {
          "output_type": "stream",
          "name": "stdout",
          "text": [
            "✅ A 모델 (정확도 82대) 최소 F1-score: 0.8240 (Acc: 0.8251)\n",
            "✅ 메인 모델 F1: 0.8253\n",
            "✅ 보조 모델 F1: 0.8926\n",
            "✅ 하이브리드 모델 정확도: 0.8300 / F1: 0.8276\n"
          ]
        }
      ]
    },
    {
      "cell_type": "code",
      "source": [
        "import matplotlib.pyplot as plt\n",
        "\n",
        "# ✅ Labels & values (영어로)\n",
        "labels = ['A Model (82%)', 'Main Model', 'Sub Model', 'Hybrid (F1)', 'Hybrid (Accuracy)']\n",
        "scores = [min_f1, f1_main, f1_sub, f1_hybrid, acc_hybrid]\n",
        "colors = ['gray', 'skyblue', 'lightgreen', 'orange', 'tomato']\n",
        "\n",
        "plt.figure(figsize=(9, 5))\n",
        "bars = plt.bar(labels, scores, color=colors)\n",
        "\n",
        "plt.ylim(0.7, 1.0)\n",
        "plt.ylabel('Score')\n",
        "plt.title('🔍 Comparison of Model F1-scores and Accuracy')\n",
        "\n",
        "# ✅ 막대 위에 수치 표시 (소수점 2자리, 흰색, bold)\n",
        "for bar in bars:\n",
        "    height = bar.get_height()\n",
        "    plt.text(\n",
        "        bar.get_x() + bar.get_width() / 2,\n",
        "        height - 0.03,\n",
        "        f'{height:.2f}',\n",
        "        ha='center',\n",
        "        va='bottom',\n",
        "        color='white',\n",
        "        fontweight='bold'\n",
        "    )\n",
        "\n",
        "plt.xticks(rotation=10)\n",
        "plt.tight_layout()\n",
        "plt.show()\n"
      ],
      "metadata": {
        "colab": {
          "base_uri": "https://localhost:8080/",
          "height": 601
        },
        "id": "xwcbS_Z6oN1f",
        "outputId": "370417f3-1288-4a21-d257-669e6bb4f72a"
      },
      "execution_count": 73,
      "outputs": [
        {
          "output_type": "stream",
          "name": "stderr",
          "text": [
            "<ipython-input-73-2086130109>:29: UserWarning: Glyph 128269 (\\N{LEFT-POINTING MAGNIFYING GLASS}) missing from font(s) DejaVu Sans.\n",
            "  plt.tight_layout()\n",
            "/usr/local/lib/python3.11/dist-packages/IPython/core/pylabtools.py:151: UserWarning: Glyph 128269 (\\N{LEFT-POINTING MAGNIFYING GLASS}) missing from font(s) DejaVu Sans.\n",
            "  fig.canvas.print_figure(bytes_io, **kw)\n"
          ]
        },
        {
          "output_type": "display_data",
          "data": {
            "text/plain": [
              "<Figure size 900x500 with 1 Axes>"
            ],
            "image/png": "[encoded data removed]"
          },
          "metadata": {}
        }
      ]
    },
    {
      "cell_type": "code",
      "source": [
        "# 막대 위에 수치 표시\n",
        "for bar in bars:\n",
        "    plt.text(bar.get_x() + bar.get_width() / 2,\n",
        "             bar.get_height() - 0.04,\n",
        "             f\"{bar.get_height():.2f}\",\n",
        "             ha='center',\n",
        "             va='bottom',\n",
        "             color='white',\n",
        "             fontweight='bold')\n",
        "plt.tight_layout()\n",
        "plt.xticks(rotation=10)\n",
        "plt.show()"
      ],
      "metadata": {
        "colab": {
          "base_uri": "https://localhost:8080/",
          "height": 268
        },
        "id": "Jc0Cbo6OpOFX",
        "outputId": "9dbe1f11-1781-4e46-eb4e-11405f817ed9"
      },
      "execution_count": 72,
      "outputs": [
        {
          "output_type": "stream",
          "name": "stderr",
          "text": [
            "<ipython-input-72-1233409270>:10: UserWarning: Tight layout not applied. The left and right margins cannot be made large enough to accommodate all Axes decorations.\n",
            "  plt.tight_layout()\n"
          ]
        },
        {
          "output_type": "display_data",
          "data": {
            "text/plain": [
              "<Figure size 640x480 with 1 Axes>"
            ],
            "image/png": "[encoded data removed]"
          },
          "metadata": {}
        }
      ]
    }
  ]
}